{
 "cells": [
  {
   "cell_type": "markdown",
   "id": "b1a28f16",
   "metadata": {},
   "source": [
    "# 크롤링 기초\n",
    "## 네이버 날씨 정보 가져오기"
   ]
  },
  {
   "cell_type": "code",
   "execution_count": 1,
   "id": "dbae5cb7",
   "metadata": {},
   "outputs": [
    {
     "name": "stdout",
     "output_type": "stream",
     "text": [
      "Collecting selenium\n",
      "  Downloading selenium-4.5.0-py3-none-any.whl (995 kB)\n",
      "\u001b[2K     \u001b[90m━━━━━━━━━━━━━━━━━━━━━━━━━━━━━━━━━━━━━━\u001b[0m \u001b[32m995.2/995.2 kB\u001b[0m \u001b[31m14.5 MB/s\u001b[0m eta \u001b[36m0:00:00\u001b[0ma \u001b[36m0:00:01\u001b[0m\n",
      "\u001b[?25hCollecting trio-websocket~=0.9\n",
      "  Downloading trio_websocket-0.9.2-py3-none-any.whl (16 kB)\n",
      "Requirement already satisfied: urllib3[socks]~=1.26 in /Users/yangdahyun/opt/anaconda3/lib/python3.9/site-packages (from selenium) (1.26.11)\n",
      "Collecting trio~=0.17\n",
      "  Downloading trio-0.22.0-py3-none-any.whl (384 kB)\n",
      "\u001b[2K     \u001b[90m━━━━━━━━━━━━━━━━━━━━━━━━━━━━━━━━━━━━━━━\u001b[0m \u001b[32m384.9/384.9 kB\u001b[0m \u001b[31m9.7 MB/s\u001b[0m eta \u001b[36m0:00:00\u001b[0m00:01\u001b[0m\n",
      "\u001b[?25hRequirement already satisfied: certifi>=2021.10.8 in /Users/yangdahyun/opt/anaconda3/lib/python3.9/site-packages (from selenium) (2022.9.24)\n",
      "Requirement already satisfied: sortedcontainers in /Users/yangdahyun/opt/anaconda3/lib/python3.9/site-packages (from trio~=0.17->selenium) (2.4.0)\n",
      "Collecting async-generator>=1.9\n",
      "  Downloading async_generator-1.10-py3-none-any.whl (18 kB)\n",
      "Collecting outcome\n",
      "  Downloading outcome-1.2.0-py2.py3-none-any.whl (9.7 kB)\n",
      "Collecting exceptiongroup>=1.0.0rc9\n",
      "  Downloading exceptiongroup-1.0.0rc9-py3-none-any.whl (12 kB)\n",
      "Requirement already satisfied: idna in /Users/yangdahyun/opt/anaconda3/lib/python3.9/site-packages (from trio~=0.17->selenium) (3.3)\n",
      "Requirement already satisfied: sniffio in /Users/yangdahyun/opt/anaconda3/lib/python3.9/site-packages (from trio~=0.17->selenium) (1.2.0)\n",
      "Requirement already satisfied: attrs>=19.2.0 in /Users/yangdahyun/opt/anaconda3/lib/python3.9/site-packages (from trio~=0.17->selenium) (21.4.0)\n",
      "Collecting wsproto>=0.14\n",
      "  Downloading wsproto-1.2.0-py3-none-any.whl (24 kB)\n",
      "Requirement already satisfied: PySocks!=1.5.7,<2.0,>=1.5.6 in /Users/yangdahyun/opt/anaconda3/lib/python3.9/site-packages (from urllib3[socks]~=1.26->selenium) (1.7.1)\n",
      "Collecting h11<1,>=0.9.0\n",
      "  Downloading h11-0.14.0-py3-none-any.whl (58 kB)\n",
      "\u001b[2K     \u001b[90m━━━━━━━━━━━━━━━━━━━━━━━━━━━━━━━━━━━━━━━━\u001b[0m \u001b[32m58.3/58.3 kB\u001b[0m \u001b[31m1.9 MB/s\u001b[0m eta \u001b[36m0:00:00\u001b[0m\n",
      "\u001b[?25hInstalling collected packages: outcome, h11, exceptiongroup, async-generator, wsproto, trio, trio-websocket, selenium\n",
      "Successfully installed async-generator-1.10 exceptiongroup-1.0.0rc9 h11-0.14.0 outcome-1.2.0 selenium-4.5.0 trio-0.22.0 trio-websocket-0.9.2 wsproto-1.2.0\n",
      "Note: you may need to restart the kernel to use updated packages.\n"
     ]
    }
   ],
   "source": [
    "pip install selenium"
   ]
  },
  {
   "cell_type": "code",
   "execution_count": 12,
   "id": "d8512a47",
   "metadata": {},
   "outputs": [],
   "source": [
    "from selenium import webdriver"
   ]
  },
  {
   "cell_type": "code",
   "execution_count": 13,
   "id": "7f76f6c1",
   "metadata": {},
   "outputs": [
    {
     "name": "stderr",
     "output_type": "stream",
     "text": [
      "/var/folders/90/6xm8gvdx3rqcjl3c148y_bjw0000gn/T/ipykernel_45367/1276970080.py:2: DeprecationWarning: executable_path has been deprecated, please pass in a Service object\n",
      "  browser = webdriver.Chrome(PATH)\n"
     ]
    }
   ],
   "source": [
    "PATH = \"/Users/yangdahyun/Desktop/chromedriver\"\n",
    "browser = webdriver.Chrome(PATH)"
   ]
  },
  {
   "cell_type": "code",
   "execution_count": 14,
   "id": "9d8cdeaa",
   "metadata": {},
   "outputs": [],
   "source": [
    "browser.get(\"http://www.naver.com\")"
   ]
  },
  {
   "cell_type": "code",
   "execution_count": 47,
   "id": "45b9c056",
   "metadata": {},
   "outputs": [],
   "source": [
    "# browser.get(\"https://search.naver.com/search.naver?sm=tab_hty.top&where=nexearch&query=%EB%82%A0%EC%94%A8&oquery=&tqi=h1O0CwprvOssscYxh3dssssstqw-339552\")"
   ]
  },
  {
   "cell_type": "code",
   "execution_count": 35,
   "id": "c0689a10",
   "metadata": {},
   "outputs": [],
   "source": [
    "from selenium.webdriver.common.by import By"
   ]
  },
  {
   "cell_type": "code",
   "execution_count": 48,
   "id": "7e9e93c6",
   "metadata": {},
   "outputs": [],
   "source": [
    "browser.find_element(By.ID, 'query').click()"
   ]
  },
  {
   "cell_type": "code",
   "execution_count": 49,
   "id": "b10830e4",
   "metadata": {},
   "outputs": [],
   "source": [
    "browser.find_element(By.ID, 'query').send_keys(\"날씨\")"
   ]
  },
  {
   "cell_type": "code",
   "execution_count": 50,
   "id": "c47a3cef",
   "metadata": {},
   "outputs": [],
   "source": [
    "browser.find_element(By.CLASS_NAME, 'btn_submit').click()"
   ]
  },
  {
   "cell_type": "code",
   "execution_count": 63,
   "id": "399ac796",
   "metadata": {},
   "outputs": [
    {
     "data": {
      "text/plain": [
       "'16.2°'"
      ]
     },
     "execution_count": 63,
     "metadata": {},
     "output_type": "execute_result"
    }
   ],
   "source": [
    "data = browser.find_element(By.XPATH, '//*[@id=\"main_pack\"]/section[1]/div[1]/div[2]/div[1]/div[1]/div/div[2]/div/div[1]/div[1]/div[2]/strong').text"
   ]
  },
  {
   "cell_type": "code",
   "execution_count": 72,
   "id": "b13a450f",
   "metadata": {},
   "outputs": [],
   "source": [
    "browser.find_element(By.ID, 'nx_query').click()"
   ]
  },
  {
   "cell_type": "code",
   "execution_count": 73,
   "id": "b4731685",
   "metadata": {},
   "outputs": [],
   "source": [
    "browser.find_element(By.ID, 'nx_query').clear()"
   ]
  },
  {
   "cell_type": "code",
   "execution_count": 74,
   "id": "fb22385e",
   "metadata": {},
   "outputs": [],
   "source": [
    "browser.find_element(By.ID, 'nx_query').send_keys(\"환율\")"
   ]
  },
  {
   "cell_type": "code",
   "execution_count": 75,
   "id": "afdc65d4",
   "metadata": {},
   "outputs": [],
   "source": [
    "browser.find_element(By.CLASS_NAME, 'bt_search').click()"
   ]
  },
  {
   "cell_type": "code",
   "execution_count": 78,
   "id": "93720677",
   "metadata": {},
   "outputs": [
    {
     "data": {
      "text/plain": [
       "'1,433.20'"
      ]
     },
     "execution_count": 78,
     "metadata": {},
     "output_type": "execute_result"
    }
   ],
   "source": [
    "browser.find_element(By.XPATH,'//*[@id=\"_cs_foreigninfo\"]/div/div[2]/div/div[1]/div[1]/div[1]/div[1]/h3/a/span[2]/strong').text"
   ]
  },
  {
   "cell_type": "code",
   "execution_count": 86,
   "id": "53a2018f",
   "metadata": {},
   "outputs": [],
   "source": [
    "browser.get(\"https://www.google.com/search?q=%EC%9E%90%EB%8F%99%ED%99%94&source=lnms&tbm=nws&tbs=qdr:w&sa=X&ved=2ahUKEwis2OSv4Pr6AhVNBN4KHUHFC1kQ_AUoAnoECAEQBA&biw=771&bih=707&dpr=2\")"
   ]
  },
  {
   "cell_type": "code",
   "execution_count": 87,
   "id": "21b337c8",
   "metadata": {},
   "outputs": [
    {
     "data": {
      "text/plain": [
       "\"'5분이면 청약 끝'…한화생명, 청약자동화 솔루션 특허 취득\""
      ]
     },
     "execution_count": 87,
     "metadata": {},
     "output_type": "execute_result"
    }
   ],
   "source": [
    "browser.find_element(By.XPATH, '//*[@id=\"rso\"]/div/div/div[1]/div/div/a/div/div/div[2]').text"
   ]
  },
  {
   "cell_type": "code",
   "execution_count": 88,
   "id": "31884532",
   "metadata": {},
   "outputs": [
    {
     "data": {
      "text/plain": [
       "'(서울=연합인포맥스) 정지서 기자 = 한화생명이 업계 최초로 보험 신계약 과정을 로봇 기술로 자동화하며 법인대리점(GA) 시장에서의 영업 경쟁력 강화에 나섰다.'"
      ]
     },
     "execution_count": 88,
     "metadata": {},
     "output_type": "execute_result"
    }
   ],
   "source": [
    "browser.find_element(By.XPATH, '//*[@id=\"rso\"]/div/div/div[1]/div/div/a/div/div/div[3]').text"
   ]
  },
  {
   "cell_type": "code",
   "execution_count": 93,
   "id": "e62f6bac",
   "metadata": {
    "scrolled": true
   },
   "outputs": [
    {
     "name": "stdout",
     "output_type": "stream",
     "text": [
      "https://news.einfomax.co.kr/news/articleView.html?idxno=4239120\n"
     ]
    }
   ],
   "source": [
    "#get_attribute : 원하는 속성의 값 가져오기\n",
    "href = browser.find_element(By.XPATH, '//*[@id=\"rso\"]/div/div/div[1]/div/div/a').get_attribute('href')\n",
    "print(href)\n"
   ]
  },
  {
   "cell_type": "markdown",
   "id": "f948ee92",
   "metadata": {},
   "source": [
    "## 다건 뉴스 크롤링"
   ]
  },
  {
   "cell_type": "code",
   "execution_count": 106,
   "id": "a2349de3",
   "metadata": {},
   "outputs": [
    {
     "data": {
      "text/plain": [
       "[<selenium.webdriver.remote.webelement.WebElement (session=\"05afa6cc9d521a27c7de9030c733cc89\", element=\"d79952dd-c5ae-4b2a-b931-009c0ecceb83\")>,\n",
       " <selenium.webdriver.remote.webelement.WebElement (session=\"05afa6cc9d521a27c7de9030c733cc89\", element=\"04aab16c-fe05-4fd7-93db-65b3411c5439\")>,\n",
       " <selenium.webdriver.remote.webelement.WebElement (session=\"05afa6cc9d521a27c7de9030c733cc89\", element=\"f55bd33e-8404-400a-98a2-69ec0d8dae49\")>,\n",
       " <selenium.webdriver.remote.webelement.WebElement (session=\"05afa6cc9d521a27c7de9030c733cc89\", element=\"3991cc23-f93e-46fa-a439-da84b621e702\")>,\n",
       " <selenium.webdriver.remote.webelement.WebElement (session=\"05afa6cc9d521a27c7de9030c733cc89\", element=\"675e559c-88af-4600-811c-b6e5d293b9cd\")>,\n",
       " <selenium.webdriver.remote.webelement.WebElement (session=\"05afa6cc9d521a27c7de9030c733cc89\", element=\"d8cba075-f871-4d72-a500-bf65c9abdabd\")>,\n",
       " <selenium.webdriver.remote.webelement.WebElement (session=\"05afa6cc9d521a27c7de9030c733cc89\", element=\"65982aa9-3f28-4a66-b7a3-681eff15e6c1\")>,\n",
       " <selenium.webdriver.remote.webelement.WebElement (session=\"05afa6cc9d521a27c7de9030c733cc89\", element=\"17151d02-f8b5-4d79-bf74-c110fda896a6\")>,\n",
       " <selenium.webdriver.remote.webelement.WebElement (session=\"05afa6cc9d521a27c7de9030c733cc89\", element=\"068fd09a-b195-48a7-93cf-53140ced0977\")>,\n",
       " <selenium.webdriver.remote.webelement.WebElement (session=\"05afa6cc9d521a27c7de9030c733cc89\", element=\"fa1531f3-9cf5-4dd0-94b3-0f3533d06356\")>]"
      ]
     },
     "execution_count": 106,
     "metadata": {},
     "output_type": "execute_result"
    }
   ],
   "source": [
    "browser.find_elements(By.CLASS_NAME, 'mCBkyc')"
   ]
  },
  {
   "cell_type": "code",
   "execution_count": 123,
   "id": "c5bccbca",
   "metadata": {},
   "outputs": [
    {
     "data": {
      "text/plain": [
       "[\"'5분이면 청약 끝'…한화생명, 청약자동화 솔루션 특허 취득\",\n",
       " \"한화생명, '청약자동화 솔루션' 특허 취득...5분이면 청약 가능\",\n",
       " '한화생명 청약자동화 솔루션 특허…GA설계사 업무간소화',\n",
       " '롯데홈쇼핑, 이천 물류센터 오픈...최첨단 자동화 시스템 갖춰',\n",
       " \"'2022 국제 공구 및 스마트 용접 자동화전' 성료\",\n",
       " \"지멘스, 차세대 IC DFT 자동화 솔루션 '테센트 멀티-다이' 공개\",\n",
       " '창원시 \"국내 최대 용접 및 절단자동화전 328억 수출상담\"',\n",
       " '자동화로 네트워크 전체 스위치 업그레이드를 효율화하는 방법',\n",
       " '롯데홈쇼핑, 이천 물류센터 오픈…자동화 시스템 도입',\n",
       " '유아이패스 “자동화 시장, RPA에서 지능형 프로세스 자동화(IPA ...']"
      ]
     },
     "execution_count": 123,
     "metadata": {},
     "output_type": "execute_result"
    }
   ],
   "source": [
    "titles = browser.find_elements(By.CLASS_NAME, 'mCBkyc')\n",
    "\n",
    "title = []\n",
    "for i in titles:\n",
    "#     title = i.text\n",
    "#     print(title)\n",
    "    title.append(i.text)\n",
    "\n",
    "title"
   ]
  },
  {
   "cell_type": "code",
   "execution_count": 147,
   "id": "d539f8d5",
   "metadata": {},
   "outputs": [
    {
     "data": {
      "text/plain": [
       "['(서울=연합인포맥스) 정지서 기자 = 한화생명이 업계 최초로 보험 신계약 과정을 로봇 기술로 자동화하며 법인대리점(GA) 시장에서의 영업 경쟁력 강화에 나섰다.',\n",
       " \"한화생명은 보험설계 및 청약 업무 프로세스 자동화 기술인 '청약자동화 솔루션'에 대한 BM특허를 특허청으로부터 취득했다고 25일 밝혔다.\",\n",
       " \"한화생명[088350]은 보험설계 및 청약 업무 프로세스 자동화 기술인 '청약 자동화 솔루션'이 BM 특허를 취득했다고 25일 밝혔다. BM 특허는 정보시스템을 이용해 고안...\",\n",
       " '자율주행로봇, 무인운반차, 로봇팔 디팔렛타이저 등 최첨단 자동화 설비 도입. 롯데홈쇼핑(대표 이완신)이 난 21일(금) 경기도 이천에서 업계 최초로 자동화 시스템을...',\n",
       " \"최첨단 공구 및 스마트 용접, 자동화기기를 한눈에 볼 수 있었던 '2022 국제 공구 및 스마트 용접 자동화전(TOOL TECH + SMART WELDING AUTOMATION FAIR)'이 나흘간 2...\",\n",
       " '... 가 선보인 테센트 멀티-다이 소프트웨어는 2.5D 및 3D IC 설계와 관련된 매우 복잡한 DFT 작업을 수행하기 위한, 업계에서 가장 포괄적인 DFT 자동화 솔루션이다.',\n",
       " '용접 절단 최대 수요지인 창원에서 지난 18일부터 4일 간 개최된 34년 역사의 용접·절단 기술 전문 전시회인 창원국제용접 및 절단자동화전에는 1만여명의 관람객이 다녀...',\n",
       " '자동화는 반복적인 네트워킹 작업에서 큰 차이를 만들어낼 수 있다. 파이썬 스크립트와 오픈소스 툴을 사용해 엔터프라이즈 스위치 업그레이드를 효율화하기 위해 필자...',\n",
       " '롯데홈쇼핑은 경기도 이천에 자동화 시스템을 도입한 최첨단 물류센터를 오픈했다. 지난 21일 열린 오픈식에는 이완신 롯데홈쇼핑 대표, 박찬복 롯데글로벌로지스 대표...',\n",
       " '웨이브2에는 엔터프라이즈 자동화뿐 아니라 퍼스널 자동화(Personal Automation) 요소도 포함된다. 그는 “지난 3년 동안 많은 기업들이 RPA를 적용하면서 시간과 비용을...']"
      ]
     },
     "execution_count": 147,
     "metadata": {},
     "output_type": "execute_result"
    }
   ],
   "source": [
    "contents = browser.find_elements(By.CLASS_NAME, 'GI74Re')\n",
    "\n",
    "content = []\n",
    "for i in contents:\n",
    "    content.append(i.text)\n",
    "content"
   ]
  },
  {
   "cell_type": "code",
   "execution_count": 131,
   "id": "b7679135",
   "metadata": {},
   "outputs": [
    {
     "data": {
      "text/plain": [
       "['https://news.einfomax.co.kr/news/articleView.html?idxno=4239120',\n",
       " 'https://www.ngetnews.com/news/articleView.html?idxno=411836',\n",
       " 'https://www.mk.co.kr/news/economy/view/2022/10/944694/',\n",
       " 'http://www.klnews.co.kr/news/articleView.html?idxno=305926',\n",
       " 'http://www.snmnews.com/news/articleView.html?idxno=506612',\n",
       " 'https://www.hellot.net/news/article.html?no=72189',\n",
       " 'http://www.newsfreezone.co.kr/news/articleView.html?idxno=419338',\n",
       " 'https://www.itworld.co.kr/news/260974',\n",
       " 'https://www.etnews.com/20221023000012',\n",
       " 'https://byline.network/2022/10/20-208/']"
      ]
     },
     "execution_count": 131,
     "metadata": {},
     "output_type": "execute_result"
    }
   ],
   "source": [
    "links = browser.find_elements(By.CLASS_NAME, 'WlydOe')\n",
    "\n",
    "link = []\n",
    "for i in links:\n",
    "    link.append(i.get_attribute('href'))\n",
    "    \n",
    "link"
   ]
  },
  {
   "cell_type": "markdown",
   "id": "48fce16c",
   "metadata": {},
   "source": [
    "### excel 파일 저장"
   ]
  },
  {
   "cell_type": "code",
   "execution_count": 137,
   "id": "994b0b2c",
   "metadata": {},
   "outputs": [],
   "source": [
    "# file = open(\"google_news.csv\", \"a\", encoding=\"UTF-8-sig\")\n",
    "# file.write(\"{}, {}, {} \\n\".format(\"제목\", \"내용\", \"링크\"))\n",
    "# #format() 각각 하나씩 매칭\n",
    "# file.close()\n"
   ]
  },
  {
   "cell_type": "code",
   "execution_count": 149,
   "id": "d572ba40",
   "metadata": {},
   "outputs": [
    {
     "name": "stdout",
     "output_type": "stream",
     "text": [
      "[\"'5분이면 청약 끝'…한화생명, 청약자동화 솔루션 특허 취득\", '(서울=연합인포맥스) 정지서 기자 = 한화생명이 업계 최초로 보험 신계약 과정을 로봇 기술로 자동화하며 법인대리점(GA) 시장에서의 영업 경쟁력 강화에 나섰다.', 'https://news.einfomax.co.kr/news/articleView.html?idxno=4239120']\n"
     ]
    }
   ],
   "source": [
    "#[title],[content],[link]\n",
    "\n",
    "file = open(\"google_news.csv\", \"a\", encoding=\"UTF-8-sig\")\n",
    "\n",
    "# title 갯수만큼\n",
    "# len(title)\n",
    "for i in range(len(title)):\n",
    "    file.write(\"{}, {}, {} \\n\".format(title[i], content[i], link[i]))\n",
    "\n",
    "file.close()"
   ]
  },
  {
   "cell_type": "code",
   "execution_count": null,
   "id": "dd324861",
   "metadata": {},
   "outputs": [],
   "source": []
  }
 ],
 "metadata": {
  "kernelspec": {
   "display_name": "Python 3 (ipykernel)",
   "language": "python",
   "name": "python3"
  },
  "language_info": {
   "codemirror_mode": {
    "name": "ipython",
    "version": 3
   },
   "file_extension": ".py",
   "mimetype": "text/x-python",
   "name": "python",
   "nbconvert_exporter": "python",
   "pygments_lexer": "ipython3",
   "version": "3.9.13"
  }
 },
 "nbformat": 4,
 "nbformat_minor": 5
}
