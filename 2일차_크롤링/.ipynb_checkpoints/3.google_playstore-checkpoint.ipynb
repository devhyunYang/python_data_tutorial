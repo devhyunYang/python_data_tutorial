{
 "cells": [
  {
   "cell_type": "markdown",
   "id": "6956ac09",
   "metadata": {},
   "source": [
    "# 구글 플레이스토어 댓글 수집\n",
    "목적 : 내가 검색한 앱의 댓글을 수집합니다.\n",
    "    (최소 스크롤 3번을 내립니다.)\n",
    "    \n",
    "    내가 원하는 어플 찾기 - 쿼리에서 첫번째 앱"
   ]
  },
  {
   "cell_type": "code",
   "execution_count": 54,
   "id": "9692c9da",
   "metadata": {},
   "outputs": [],
   "source": [
    "from selenium import webdriver\n",
    "from selenium.webdriver.common.by import By\n",
    "from selenium.webdriver.common.keys import Keys\n",
    "import time"
   ]
  },
  {
   "cell_type": "code",
   "execution_count": 9,
   "id": "234f896c",
   "metadata": {},
   "outputs": [
    {
     "name": "stderr",
     "output_type": "stream",
     "text": [
      "/var/folders/90/6xm8gvdx3rqcjl3c148y_bjw0000gn/T/ipykernel_65839/139041283.py:3: DeprecationWarning: executable_path has been deprecated, please pass in a Service object\n",
      "  browser = webdriver.Chrome(path)\n"
     ]
    }
   ],
   "source": [
    "path = \"/Users/yangdahyun/Desktop/chromedriver\"\n",
    "\n",
    "browser = webdriver.Chrome(path)\n"
   ]
  },
  {
   "cell_type": "code",
   "execution_count": 73,
   "id": "edaa8264",
   "metadata": {},
   "outputs": [
    {
     "name": "stdout",
     "output_type": "stream",
     "text": [
      "앱 이름을 입력하세요배달의민족\n",
      "https://play.google.com/store/search?q=배달의민족&c=apps&hl=ko\n"
     ]
    }
   ],
   "source": [
    "search_word = input(\"앱 이름을 입력하세요\")\n",
    "\n",
    "url = \"https://play.google.com/store/search?q={}&c=apps&hl=ko\"\n",
    "\n",
    "final_url = url.format(search_word)\n",
    "print(final_url)\n",
    "browser.get(final_url)"
   ]
  },
  {
   "cell_type": "code",
   "execution_count": 74,
   "id": "b91c9906",
   "metadata": {
    "scrolled": true
   },
   "outputs": [
    {
     "name": "stdout",
     "output_type": "stream",
     "text": [
      "https://play.google.com/store/apps/details?id=com.sampleapp\n"
     ]
    }
   ],
   "source": [
    "browser.implicitly_wait(5)\n",
    "app_url= browser.find_element(By.CLASS_NAME, 'Si6A0c').get_attribute('href')\n",
    "print(app_url)\n",
    "\n",
    "browser.get(app_url)\n",
    "# first_app = apps[0]\n",
    "# print(first_app)\n",
    "# 여러개 중 젤 첫 번째 클릭\n",
    "\n",
    "# first_app = browser.find_elements(first_app.By.CLASS_NAME, 'Si6A0c')"
   ]
  },
  {
   "cell_type": "code",
   "execution_count": 37,
   "id": "eaa55163",
   "metadata": {},
   "outputs": [],
   "source": [
    "# click > send_keys로 변경 후 버튼 클릭\n",
    "# 로그인이 뜨는 경우 > 미리 로그인 패스 후 설정\n",
    "# browser.find_element(By.CLASS_NAME, 'VfPpkd-LgbsSe').send_keys(Keys.ENTER) "
   ]
  },
  {
   "cell_type": "code",
   "execution_count": 79,
   "id": "c4044c87",
   "metadata": {},
   "outputs": [
    {
     "ename": "ElementClickInterceptedException",
     "evalue": "Message: element click intercepted: Element <button class=\"VfPpkd-Bz112c-LgbsSe yHy1rc eT1oJ QDwDD mN1ivc VxpoF\" jscontroller=\"soHxf\" jsaction=\"click:cOuCgd; mousedown:UX7yZ; mouseup:lbsD7e; mouseenter:tfO1Yc; mouseleave:JywGue; touchstart:p6p2H; touchmove:FwuNnf; touchend:yfqBxc; touchcancel:JMtRjd; focus:AHmuwe; blur:O22p3e; contextmenu:mg9Pef;mlnRJb:fLiPzd;\" data-disable-idom=\"true\" aria-label=\"평가 및 리뷰 자세히 알아보기\">...</button> is not clickable at point (162, 24). Other element would receive the click: <span aria-hidden=\"true\">...</span>\n  (Session info: chrome=106.0.5249.119)\nStacktrace:\n0   chromedriver                        0x00000001048a3598 chromedriver + 4404632\n1   chromedriver                        0x000000010482afa3 chromedriver + 3911587\n2   chromedriver                        0x00000001044d7e6a chromedriver + 425578\n3   chromedriver                        0x0000000104517644 chromedriver + 685636\n4   chromedriver                        0x00000001045150af chromedriver + 676015\n5   chromedriver                        0x00000001045126a4 chromedriver + 665252\n6   chromedriver                        0x00000001045113af chromedriver + 660399\n7   chromedriver                        0x0000000104504c51 chromedriver + 609361\n8   chromedriver                        0x000000010452dda2 chromedriver + 777634\n9   chromedriver                        0x0000000104504465 chromedriver + 607333\n10  chromedriver                        0x000000010452defe chromedriver + 777982\n11  chromedriver                        0x0000000104544f79 chromedriver + 872313\n12  chromedriver                        0x000000010452dbd3 chromedriver + 777171\n13  chromedriver                        0x0000000104502ced chromedriver + 601325\n14  chromedriver                        0x0000000104503e51 chromedriver + 605777\n15  chromedriver                        0x00000001048730ce chromedriver + 4206798\n16  chromedriver                        0x0000000104877797 chromedriver + 4224919\n17  chromedriver                        0x000000010487ea4f chromedriver + 4254287\n18  chromedriver                        0x00000001048784da chromedriver + 4228314\n19  chromedriver                        0x000000010485123f chromedriver + 4067903\n20  chromedriver                        0x00000001048956a8 chromedriver + 4347560\n21  chromedriver                        0x0000000104895816 chromedriver + 4347926\n22  chromedriver                        0x00000001048aa8fe chromedriver + 4434174\n23  libsystem_pthread.dylib             0x00007fff204cf8fc _pthread_start + 224\n24  libsystem_pthread.dylib             0x00007fff204cb443 thread_start + 15\n",
     "output_type": "error",
     "traceback": [
      "\u001b[0;31m---------------------------------------------------------------------------\u001b[0m",
      "\u001b[0;31mElementClickInterceptedException\u001b[0m          Traceback (most recent call last)",
      "\u001b[0;32m/var/folders/90/6xm8gvdx3rqcjl3c148y_bjw0000gn/T/ipykernel_65839/4224598380.py\u001b[0m in \u001b[0;36m<module>\u001b[0;34m\u001b[0m\n\u001b[0;32m----> 1\u001b[0;31m \u001b[0mbrowser\u001b[0m\u001b[0;34m.\u001b[0m\u001b[0mfind_element\u001b[0m\u001b[0;34m(\u001b[0m\u001b[0mBy\u001b[0m\u001b[0;34m.\u001b[0m\u001b[0mXPATH\u001b[0m\u001b[0;34m,\u001b[0m \u001b[0;34m'//*[@id=\"yDmH0d\"]/c-wiz[2]/div/div/div[1]/div[2]/div/div[1]/c-wiz[4]/section/header/div/div[2]/button'\u001b[0m\u001b[0;34m)\u001b[0m\u001b[0;34m.\u001b[0m\u001b[0mclick\u001b[0m\u001b[0;34m(\u001b[0m\u001b[0;34m)\u001b[0m\u001b[0;34m\u001b[0m\u001b[0;34m\u001b[0m\u001b[0m\n\u001b[0m\u001b[1;32m      2\u001b[0m \u001b[0;34m\u001b[0m\u001b[0m\n\u001b[1;32m      3\u001b[0m \u001b[0;31m# find_button = browser.find_element(By.CLASS_NAME, \"VfPpkd-LgbsSe\")\u001b[0m\u001b[0;34m\u001b[0m\u001b[0;34m\u001b[0m\u001b[0m\n\u001b[1;32m      4\u001b[0m \u001b[0;34m\u001b[0m\u001b[0m\n\u001b[1;32m      5\u001b[0m \u001b[0;34m\u001b[0m\u001b[0m\n",
      "\u001b[0;32m~/opt/anaconda3/lib/python3.9/site-packages/selenium/webdriver/remote/webelement.py\u001b[0m in \u001b[0;36mclick\u001b[0;34m(self)\u001b[0m\n\u001b[1;32m     86\u001b[0m     \u001b[0;32mdef\u001b[0m \u001b[0mclick\u001b[0m\u001b[0;34m(\u001b[0m\u001b[0mself\u001b[0m\u001b[0;34m)\u001b[0m \u001b[0;34m->\u001b[0m \u001b[0;32mNone\u001b[0m\u001b[0;34m:\u001b[0m\u001b[0;34m\u001b[0m\u001b[0;34m\u001b[0m\u001b[0m\n\u001b[1;32m     87\u001b[0m         \u001b[0;34m\"\"\"Clicks the element.\"\"\"\u001b[0m\u001b[0;34m\u001b[0m\u001b[0;34m\u001b[0m\u001b[0m\n\u001b[0;32m---> 88\u001b[0;31m         \u001b[0mself\u001b[0m\u001b[0;34m.\u001b[0m\u001b[0m_execute\u001b[0m\u001b[0;34m(\u001b[0m\u001b[0mCommand\u001b[0m\u001b[0;34m.\u001b[0m\u001b[0mCLICK_ELEMENT\u001b[0m\u001b[0;34m)\u001b[0m\u001b[0;34m\u001b[0m\u001b[0;34m\u001b[0m\u001b[0m\n\u001b[0m\u001b[1;32m     89\u001b[0m \u001b[0;34m\u001b[0m\u001b[0m\n\u001b[1;32m     90\u001b[0m     \u001b[0;32mdef\u001b[0m \u001b[0msubmit\u001b[0m\u001b[0;34m(\u001b[0m\u001b[0mself\u001b[0m\u001b[0;34m)\u001b[0m\u001b[0;34m:\u001b[0m\u001b[0;34m\u001b[0m\u001b[0;34m\u001b[0m\u001b[0m\n",
      "\u001b[0;32m~/opt/anaconda3/lib/python3.9/site-packages/selenium/webdriver/remote/webelement.py\u001b[0m in \u001b[0;36m_execute\u001b[0;34m(self, command, params)\u001b[0m\n\u001b[1;32m    394\u001b[0m             \u001b[0mparams\u001b[0m \u001b[0;34m=\u001b[0m \u001b[0;34m{\u001b[0m\u001b[0;34m}\u001b[0m\u001b[0;34m\u001b[0m\u001b[0;34m\u001b[0m\u001b[0m\n\u001b[1;32m    395\u001b[0m         \u001b[0mparams\u001b[0m\u001b[0;34m[\u001b[0m\u001b[0;34m'id'\u001b[0m\u001b[0;34m]\u001b[0m \u001b[0;34m=\u001b[0m \u001b[0mself\u001b[0m\u001b[0;34m.\u001b[0m\u001b[0m_id\u001b[0m\u001b[0;34m\u001b[0m\u001b[0;34m\u001b[0m\u001b[0m\n\u001b[0;32m--> 396\u001b[0;31m         \u001b[0;32mreturn\u001b[0m \u001b[0mself\u001b[0m\u001b[0;34m.\u001b[0m\u001b[0m_parent\u001b[0m\u001b[0;34m.\u001b[0m\u001b[0mexecute\u001b[0m\u001b[0;34m(\u001b[0m\u001b[0mcommand\u001b[0m\u001b[0;34m,\u001b[0m \u001b[0mparams\u001b[0m\u001b[0;34m)\u001b[0m\u001b[0;34m\u001b[0m\u001b[0;34m\u001b[0m\u001b[0m\n\u001b[0m\u001b[1;32m    397\u001b[0m \u001b[0;34m\u001b[0m\u001b[0m\n\u001b[1;32m    398\u001b[0m     \u001b[0;32mdef\u001b[0m \u001b[0mfind_element\u001b[0m\u001b[0;34m(\u001b[0m\u001b[0mself\u001b[0m\u001b[0;34m,\u001b[0m \u001b[0mby\u001b[0m\u001b[0;34m=\u001b[0m\u001b[0mBy\u001b[0m\u001b[0;34m.\u001b[0m\u001b[0mID\u001b[0m\u001b[0;34m,\u001b[0m \u001b[0mvalue\u001b[0m\u001b[0;34m=\u001b[0m\u001b[0;32mNone\u001b[0m\u001b[0;34m)\u001b[0m \u001b[0;34m->\u001b[0m \u001b[0mWebElement\u001b[0m\u001b[0;34m:\u001b[0m\u001b[0;34m\u001b[0m\u001b[0;34m\u001b[0m\u001b[0m\n",
      "\u001b[0;32m~/opt/anaconda3/lib/python3.9/site-packages/selenium/webdriver/remote/webdriver.py\u001b[0m in \u001b[0;36mexecute\u001b[0;34m(self, driver_command, params)\u001b[0m\n\u001b[1;32m    427\u001b[0m         \u001b[0mresponse\u001b[0m \u001b[0;34m=\u001b[0m \u001b[0mself\u001b[0m\u001b[0;34m.\u001b[0m\u001b[0mcommand_executor\u001b[0m\u001b[0;34m.\u001b[0m\u001b[0mexecute\u001b[0m\u001b[0;34m(\u001b[0m\u001b[0mdriver_command\u001b[0m\u001b[0;34m,\u001b[0m \u001b[0mparams\u001b[0m\u001b[0;34m)\u001b[0m\u001b[0;34m\u001b[0m\u001b[0;34m\u001b[0m\u001b[0m\n\u001b[1;32m    428\u001b[0m         \u001b[0;32mif\u001b[0m \u001b[0mresponse\u001b[0m\u001b[0;34m:\u001b[0m\u001b[0;34m\u001b[0m\u001b[0;34m\u001b[0m\u001b[0m\n\u001b[0;32m--> 429\u001b[0;31m             \u001b[0mself\u001b[0m\u001b[0;34m.\u001b[0m\u001b[0merror_handler\u001b[0m\u001b[0;34m.\u001b[0m\u001b[0mcheck_response\u001b[0m\u001b[0;34m(\u001b[0m\u001b[0mresponse\u001b[0m\u001b[0;34m)\u001b[0m\u001b[0;34m\u001b[0m\u001b[0;34m\u001b[0m\u001b[0m\n\u001b[0m\u001b[1;32m    430\u001b[0m             response['value'] = self._unwrap_value(\n\u001b[1;32m    431\u001b[0m                 response.get('value', None))\n",
      "\u001b[0;32m~/opt/anaconda3/lib/python3.9/site-packages/selenium/webdriver/remote/errorhandler.py\u001b[0m in \u001b[0;36mcheck_response\u001b[0;34m(self, response)\u001b[0m\n\u001b[1;32m    241\u001b[0m                 \u001b[0malert_text\u001b[0m \u001b[0;34m=\u001b[0m \u001b[0mvalue\u001b[0m\u001b[0;34m[\u001b[0m\u001b[0;34m'alert'\u001b[0m\u001b[0;34m]\u001b[0m\u001b[0;34m.\u001b[0m\u001b[0mget\u001b[0m\u001b[0;34m(\u001b[0m\u001b[0;34m'text'\u001b[0m\u001b[0;34m)\u001b[0m\u001b[0;34m\u001b[0m\u001b[0;34m\u001b[0m\u001b[0m\n\u001b[1;32m    242\u001b[0m             \u001b[0;32mraise\u001b[0m \u001b[0mexception_class\u001b[0m\u001b[0;34m(\u001b[0m\u001b[0mmessage\u001b[0m\u001b[0;34m,\u001b[0m \u001b[0mscreen\u001b[0m\u001b[0;34m,\u001b[0m \u001b[0mstacktrace\u001b[0m\u001b[0;34m,\u001b[0m \u001b[0malert_text\u001b[0m\u001b[0;34m)\u001b[0m  \u001b[0;31m# type: ignore[call-arg]  # mypy is not smart enough here\u001b[0m\u001b[0;34m\u001b[0m\u001b[0;34m\u001b[0m\u001b[0m\n\u001b[0;32m--> 243\u001b[0;31m         \u001b[0;32mraise\u001b[0m \u001b[0mexception_class\u001b[0m\u001b[0;34m(\u001b[0m\u001b[0mmessage\u001b[0m\u001b[0;34m,\u001b[0m \u001b[0mscreen\u001b[0m\u001b[0;34m,\u001b[0m \u001b[0mstacktrace\u001b[0m\u001b[0;34m)\u001b[0m\u001b[0;34m\u001b[0m\u001b[0;34m\u001b[0m\u001b[0m\n\u001b[0m",
      "\u001b[0;31mElementClickInterceptedException\u001b[0m: Message: element click intercepted: Element <button class=\"VfPpkd-Bz112c-LgbsSe yHy1rc eT1oJ QDwDD mN1ivc VxpoF\" jscontroller=\"soHxf\" jsaction=\"click:cOuCgd; mousedown:UX7yZ; mouseup:lbsD7e; mouseenter:tfO1Yc; mouseleave:JywGue; touchstart:p6p2H; touchmove:FwuNnf; touchend:yfqBxc; touchcancel:JMtRjd; focus:AHmuwe; blur:O22p3e; contextmenu:mg9Pef;mlnRJb:fLiPzd;\" data-disable-idom=\"true\" aria-label=\"평가 및 리뷰 자세히 알아보기\">...</button> is not clickable at point (162, 24). Other element would receive the click: <span aria-hidden=\"true\">...</span>\n  (Session info: chrome=106.0.5249.119)\nStacktrace:\n0   chromedriver                        0x00000001048a3598 chromedriver + 4404632\n1   chromedriver                        0x000000010482afa3 chromedriver + 3911587\n2   chromedriver                        0x00000001044d7e6a chromedriver + 425578\n3   chromedriver                        0x0000000104517644 chromedriver + 685636\n4   chromedriver                        0x00000001045150af chromedriver + 676015\n5   chromedriver                        0x00000001045126a4 chromedriver + 665252\n6   chromedriver                        0x00000001045113af chromedriver + 660399\n7   chromedriver                        0x0000000104504c51 chromedriver + 609361\n8   chromedriver                        0x000000010452dda2 chromedriver + 777634\n9   chromedriver                        0x0000000104504465 chromedriver + 607333\n10  chromedriver                        0x000000010452defe chromedriver + 777982\n11  chromedriver                        0x0000000104544f79 chromedriver + 872313\n12  chromedriver                        0x000000010452dbd3 chromedriver + 777171\n13  chromedriver                        0x0000000104502ced chromedriver + 601325\n14  chromedriver                        0x0000000104503e51 chromedriver + 605777\n15  chromedriver                        0x00000001048730ce chromedriver + 4206798\n16  chromedriver                        0x0000000104877797 chromedriver + 4224919\n17  chromedriver                        0x000000010487ea4f chromedriver + 4254287\n18  chromedriver                        0x00000001048784da chromedriver + 4228314\n19  chromedriver                        0x000000010485123f chromedriver + 4067903\n20  chromedriver                        0x00000001048956a8 chromedriver + 4347560\n21  chromedriver                        0x0000000104895816 chromedriver + 4347926\n22  chromedriver                        0x00000001048aa8fe chromedriver + 4434174\n23  libsystem_pthread.dylib             0x00007fff204cf8fc _pthread_start + 224\n24  libsystem_pthread.dylib             0x00007fff204cb443 thread_start + 15\n"
     ]
    }
   ],
   "source": [
    "browser.find_element(By.XPATH, '//*[@id=\"yDmH0d\"]/c-wiz[2]/div/div/div[1]/div[2]/div/div[1]/c-wiz[4]/section/header/div/div[2]/button').click()\n",
    "\n",
    "# find_button = browser.find_element(By.CLASS_NAME, \"VfPpkd-LgbsSe\")\n",
    "\n",
    "\n",
    "# find_button = browser.execute_script(\"arguments[0].scrollIntoView(true);\", find_button)\n",
    "# print(find_button)\n"
   ]
  },
  {
   "cell_type": "code",
   "execution_count": 78,
   "id": "f7314535",
   "metadata": {},
   "outputs": [],
   "source": [
    "# 브라우저를 모달로 이동\n",
    "browser.switch_to.window(browser.window_handles[-1])\n",
    "time.sleep(5)\n",
    "\n",
    "# browser.find_element(By.CLASS_NAME, 'jgIq1')\n",
    "browser.execute_script(\"window.scrollTo(0, document.body.scrollHeight)\")\n",
    "\n"
   ]
  },
  {
   "cell_type": "code",
   "execution_count": null,
   "id": "787b78fa",
   "metadata": {},
   "outputs": [],
   "source": []
  }
 ],
 "metadata": {
  "kernelspec": {
   "display_name": "Python 3 (ipykernel)",
   "language": "python",
   "name": "python3"
  },
  "language_info": {
   "codemirror_mode": {
    "name": "ipython",
    "version": 3
   },
   "file_extension": ".py",
   "mimetype": "text/x-python",
   "name": "python",
   "nbconvert_exporter": "python",
   "pygments_lexer": "ipython3",
   "version": "3.9.13"
  }
 },
 "nbformat": 4,
 "nbformat_minor": 5
}
