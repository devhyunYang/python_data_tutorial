{
 "cells": [
  {
   "cell_type": "markdown",
   "id": "a1af1fe1",
   "metadata": {},
   "source": [
    "# DBpia 논문 데이터 크롤링\n",
    "기본 페이지 정보 + 특정 정보 상세 페이지로 접근을 해서 데이터를 얻어오는 크롤링\n",
    "\n",
    "링크를 가져와서 상세 페이지 내용 가져오기"
   ]
  },
  {
   "cell_type": "code",
   "execution_count": 86,
   "id": "482c6e20",
   "metadata": {},
   "outputs": [],
   "source": [
    "from selenium import webdriver\n",
    "from selenium.webdriver.common.by import By\n",
    "import time"
   ]
  },
  {
   "cell_type": "code",
   "execution_count": 87,
   "id": "e47a0270",
   "metadata": {},
   "outputs": [
    {
     "name": "stderr",
     "output_type": "stream",
     "text": [
      "/var/folders/90/6xm8gvdx3rqcjl3c148y_bjw0000gn/T/ipykernel_76910/276143158.py:3: DeprecationWarning: executable_path has been deprecated, please pass in a Service object\n",
      "  browser = webdriver.Chrome(path)\n"
     ]
    }
   ],
   "source": [
    "path = \"/Users/yangdahyun/Desktop/chromedriver\"\n",
    "\n",
    "browser = webdriver.Chrome(path)"
   ]
  },
  {
   "cell_type": "code",
   "execution_count": 88,
   "id": "5ac3f1d0",
   "metadata": {},
   "outputs": [],
   "source": [
    "browser.get(\"https://www.dbpia.co.kr/\")"
   ]
  },
  {
   "cell_type": "code",
   "execution_count": 89,
   "id": "61476fff",
   "metadata": {},
   "outputs": [],
   "source": [
    "browser.find_element(By.ID, 'keyword').click()"
   ]
  },
  {
   "cell_type": "code",
   "execution_count": 90,
   "id": "2e5eac06",
   "metadata": {},
   "outputs": [
    {
     "name": "stdout",
     "output_type": "stream",
     "text": [
      "검색하고자 하는 논문의 제목을 입력하세요 : 인공지능\n",
      "https://www.dbpia.co.kr/search/topSearch?startCount=0&collection=ALL&range=A&searchField=ALL&sort=RANK&query=인공지능&srchOption=*&includeAr=false\n"
     ]
    }
   ],
   "source": [
    "search_word = input(\"검색하고자 하는 논문의 제목을 입력하세요 : \")\n",
    "url = 'https://www.dbpia.co.kr/search/topSearch?startCount=0&collection=ALL&range=A&searchField=ALL&sort=RANK&query={}&srchOption=*&includeAr=false'\n",
    "\n",
    "final_url = url.format(search_word)\n",
    "print(final_url)\n",
    "browser.get(final_url)"
   ]
  },
  {
   "cell_type": "code",
   "execution_count": 68,
   "id": "94bdbf36",
   "metadata": {},
   "outputs": [
    {
     "name": "stdout",
     "output_type": "stream",
     "text": [
      "['인공지능 기반 금융서비스의 공정성 확보를 위한 체크리스트 제안: 인공지능 기반 개인신용평가를 중심으로', '인공지능 윤리를 넘어: 위치지어진 주체로서의 개발자들과 페미니스트 인공지능의 가능성', '중국 초등학생 대상 인공지능 교재 연구 - 제작 주체를 중심으로', '영상 예술에 나타난 인공지능(로봇) 양상 연구', '인공지능 학습을 위한 패션 레이블드데이터 분석', '인공지능 로봇에 대한 법적책임과 선결과제에 관한 검토', '널리 인간을 이롭게 하는 따뜻한 인공지능', '인공지능 교양 교육을 받은 대학생의 인공지능 역량과 컴퓨팅 사고력의 관계 분석', '한국어 특허 문장 기반 CPC 자동분류 연구 - 인공지능 언어모델 KorPatBERT를 활용한 딥러닝 기법 접근 -', 'AIoT 기반 고위험 산업안전관리시스템 인공지능 연구', \"인공지능 스타트업 '소프트리에이아이', KISO 신규 가입\", '가상과 현실의 공존공간에서 인간 감정정보와 신체정보를 이용한 인공지능 몰입증강 기술', '초중등 학생을 위한 인공지능 윤리 교육 프로그램 개발 및 적용', '통계적 및 인공지능 모형 기반 태양광 발전량 예측모델 비교 및 재생에너지 발전량 예측제도 정산금 분석', \"[특허 소식] 초지능화 시대 향해 가속 중인 '인공지능 가속기' 외\", '인공지능 기반 발전 분야 압력기기의 건전성 평가', '인공지능 기반 무선 측위 기술 동향 및 전망', 'IMU 데이터를 활용한 덤벨컬 동작분석 인공지능 모델 개발', '로봇 디팔레타이징 산업용 인공지능 물체 검출 학습의 데이터 비용 절감을 위한 GAN 기반 데이터 증강 기법', '[프로젝트 리포트] 제3 공간 분석과 적용(디자인, 데이터, 인공지능)']\n"
     ]
    }
   ],
   "source": [
    "browser.implicitly_wait(5)\n",
    "\n",
    "titles = browser.find_elements(By.CLASS_NAME, 'thesis__tit')\n",
    "title = []\n",
    "\n",
    "for i in titles:\n",
    "    temp_title = i.text\n",
    "    title.append(temp_title)\n",
    "    \n",
    "print(title)"
   ]
  },
  {
   "cell_type": "code",
   "execution_count": 69,
   "id": "a60f2d8e",
   "metadata": {},
   "outputs": [
    {
     "data": {
      "text/plain": [
       "['https://www.dbpia.co.kr/journal/articleDetail?nodeId=NODE11139855',\n",
       " 'https://www.dbpia.co.kr/journal/articleDetail?nodeId=NODE11138506',\n",
       " 'https://www.dbpia.co.kr/journal/articleDetail?nodeId=NODE11139397',\n",
       " 'https://www.dbpia.co.kr/journal/articleDetail?nodeId=NODE11144464',\n",
       " 'https://www.dbpia.co.kr/journal/articleDetail?nodeId=NODE11140220',\n",
       " 'https://www.dbpia.co.kr/journal/articleDetail?nodeId=NODE11136896',\n",
       " 'https://www.dbpia.co.kr/journal/articleDetail?nodeId=NODE11143603',\n",
       " 'https://www.dbpia.co.kr/journal/articleDetail?nodeId=NODE11140186',\n",
       " 'https://www.dbpia.co.kr/journal/articleDetail?nodeId=NODE11143234',\n",
       " 'https://www.dbpia.co.kr/journal/articleDetail?nodeId=NODE11139981',\n",
       " 'https://www.dbpia.co.kr/journal/articleDetail?nodeId=NODE11139969',\n",
       " 'https://www.dbpia.co.kr/journal/articleDetail?nodeId=NODE11138316',\n",
       " 'https://www.dbpia.co.kr/journal/articleDetail?nodeId=NODE11140185',\n",
       " 'https://www.dbpia.co.kr/journal/articleDetail?nodeId=NODE11143185',\n",
       " 'https://www.dbpia.co.kr/journal/articleDetail?nodeId=NODE11139716',\n",
       " 'https://www.dbpia.co.kr/journal/articleDetail?nodeId=NODE11139709',\n",
       " 'https://www.dbpia.co.kr/journal/articleDetail?nodeId=NODE11144116',\n",
       " 'https://www.dbpia.co.kr/journal/articleDetail?nodeId=NODE11135038',\n",
       " 'https://www.dbpia.co.kr/journal/articleDetail?nodeId=NODE11142008',\n",
       " 'https://www.dbpia.co.kr/journal/articleDetail?nodeId=NODE11137764']"
      ]
     },
     "execution_count": 69,
     "metadata": {},
     "output_type": "execute_result"
    }
   ],
   "source": [
    "links = browser.find_elements(By.CLASS_NAME, 'thesis__link')\n",
    "\n",
    "link = []\n",
    "for i in links:\n",
    "    link.append(i.get_attribute('href'))\n",
    "\n",
    "link"
   ]
  },
  {
   "cell_type": "code",
   "execution_count": 70,
   "id": "a7a921f7",
   "metadata": {},
   "outputs": [
    {
     "ename": "NoSuchElementException",
     "evalue": "Message: no such element: Unable to locate element: {\"method\":\"xpath\",\"selector\":\"xpath\"}\n  (Session info: chrome=106.0.5249.119)\nStacktrace:\n0   chromedriver                        0x000000010eb3b598 chromedriver + 4404632\n1   chromedriver                        0x000000010eac2fa3 chromedriver + 3911587\n2   chromedriver                        0x000000010e76fe6a chromedriver + 425578\n3   chromedriver                        0x000000010e7a7c91 chromedriver + 654481\n4   chromedriver                        0x000000010e7a7e91 chromedriver + 654993\n5   chromedriver                        0x000000010e7df274 chromedriver + 881268\n6   chromedriver                        0x000000010e7c5dcd chromedriver + 777677\n7   chromedriver                        0x000000010e7dcf79 chromedriver + 872313\n8   chromedriver                        0x000000010e7c5bd3 chromedriver + 777171\n9   chromedriver                        0x000000010e79aced chromedriver + 601325\n10  chromedriver                        0x000000010e79be51 chromedriver + 605777\n11  chromedriver                        0x000000010eb0b0ce chromedriver + 4206798\n12  chromedriver                        0x000000010eb0f797 chromedriver + 4224919\n13  chromedriver                        0x000000010eb16a4f chromedriver + 4254287\n14  chromedriver                        0x000000010eb104da chromedriver + 4228314\n15  chromedriver                        0x000000010eae923f chromedriver + 4067903\n16  chromedriver                        0x000000010eb2d6a8 chromedriver + 4347560\n17  chromedriver                        0x000000010eb2d816 chromedriver + 4347926\n18  chromedriver                        0x000000010eb428fe chromedriver + 4434174\n19  libsystem_pthread.dylib             0x00007fff204cf8fc _pthread_start + 224\n20  libsystem_pthread.dylib             0x00007fff204cb443 thread_start + 15\n",
     "output_type": "error",
     "traceback": [
      "\u001b[0;31m---------------------------------------------------------------------------\u001b[0m",
      "\u001b[0;31mNoSuchElementException\u001b[0m                    Traceback (most recent call last)",
      "\u001b[0;32m/var/folders/90/6xm8gvdx3rqcjl3c148y_bjw0000gn/T/ipykernel_76910/2763741465.py\u001b[0m in \u001b[0;36m<module>\u001b[0;34m\u001b[0m\n\u001b[1;32m      4\u001b[0m \u001b[0;32mfor\u001b[0m \u001b[0mi\u001b[0m \u001b[0;32min\u001b[0m \u001b[0mrange\u001b[0m\u001b[0;34m(\u001b[0m\u001b[0;36m1\u001b[0m\u001b[0;34m,\u001b[0m \u001b[0;36m11\u001b[0m\u001b[0;34m)\u001b[0m\u001b[0;34m:\u001b[0m\u001b[0;34m\u001b[0m\u001b[0;34m\u001b[0m\u001b[0m\n\u001b[1;32m      5\u001b[0m     \u001b[0mxpath\u001b[0m \u001b[0;34m=\u001b[0m \u001b[0;34m'//*[@id=\"pageList\"]/a[{}]'\u001b[0m\u001b[0;34m.\u001b[0m\u001b[0mformat\u001b[0m\u001b[0;34m(\u001b[0m\u001b[0mstr\u001b[0m\u001b[0;34m(\u001b[0m\u001b[0mi\u001b[0m\u001b[0;34m)\u001b[0m\u001b[0;34m)\u001b[0m\u001b[0;34m\u001b[0m\u001b[0;34m\u001b[0m\u001b[0m\n\u001b[0;32m----> 6\u001b[0;31m     \u001b[0mbrowser\u001b[0m\u001b[0;34m.\u001b[0m\u001b[0mfind_element\u001b[0m\u001b[0;34m(\u001b[0m\u001b[0mBy\u001b[0m\u001b[0;34m.\u001b[0m\u001b[0mXPATH\u001b[0m\u001b[0;34m,\u001b[0m \u001b[0;34m'xpath'\u001b[0m\u001b[0;34m)\u001b[0m\u001b[0;34m.\u001b[0m\u001b[0mclick\u001b[0m\u001b[0;34m(\u001b[0m\u001b[0;34m)\u001b[0m\u001b[0;34m\u001b[0m\u001b[0;34m\u001b[0m\u001b[0m\n\u001b[0m\u001b[1;32m      7\u001b[0m     \u001b[0mtime\u001b[0m\u001b[0;34m.\u001b[0m\u001b[0msleep\u001b[0m\u001b[0;34m(\u001b[0m\u001b[0;36m5\u001b[0m\u001b[0;34m)\u001b[0m\u001b[0;34m\u001b[0m\u001b[0;34m\u001b[0m\u001b[0m\n\u001b[1;32m      8\u001b[0m \u001b[0;34m\u001b[0m\u001b[0m\n",
      "\u001b[0;32m~/opt/anaconda3/lib/python3.9/site-packages/selenium/webdriver/remote/webdriver.py\u001b[0m in \u001b[0;36mfind_element\u001b[0;34m(self, by, value)\u001b[0m\n\u001b[1;32m    854\u001b[0m             \u001b[0mvalue\u001b[0m \u001b[0;34m=\u001b[0m \u001b[0;34m'[name=\"%s\"]'\u001b[0m \u001b[0;34m%\u001b[0m \u001b[0mvalue\u001b[0m\u001b[0;34m\u001b[0m\u001b[0;34m\u001b[0m\u001b[0m\n\u001b[1;32m    855\u001b[0m \u001b[0;34m\u001b[0m\u001b[0m\n\u001b[0;32m--> 856\u001b[0;31m         return self.execute(Command.FIND_ELEMENT, {\n\u001b[0m\u001b[1;32m    857\u001b[0m             \u001b[0;34m'using'\u001b[0m\u001b[0;34m:\u001b[0m \u001b[0mby\u001b[0m\u001b[0;34m,\u001b[0m\u001b[0;34m\u001b[0m\u001b[0;34m\u001b[0m\u001b[0m\n\u001b[1;32m    858\u001b[0m             'value': value})['value']\n",
      "\u001b[0;32m~/opt/anaconda3/lib/python3.9/site-packages/selenium/webdriver/remote/webdriver.py\u001b[0m in \u001b[0;36mexecute\u001b[0;34m(self, driver_command, params)\u001b[0m\n\u001b[1;32m    427\u001b[0m         \u001b[0mresponse\u001b[0m \u001b[0;34m=\u001b[0m \u001b[0mself\u001b[0m\u001b[0;34m.\u001b[0m\u001b[0mcommand_executor\u001b[0m\u001b[0;34m.\u001b[0m\u001b[0mexecute\u001b[0m\u001b[0;34m(\u001b[0m\u001b[0mdriver_command\u001b[0m\u001b[0;34m,\u001b[0m \u001b[0mparams\u001b[0m\u001b[0;34m)\u001b[0m\u001b[0;34m\u001b[0m\u001b[0;34m\u001b[0m\u001b[0m\n\u001b[1;32m    428\u001b[0m         \u001b[0;32mif\u001b[0m \u001b[0mresponse\u001b[0m\u001b[0;34m:\u001b[0m\u001b[0;34m\u001b[0m\u001b[0;34m\u001b[0m\u001b[0m\n\u001b[0;32m--> 429\u001b[0;31m             \u001b[0mself\u001b[0m\u001b[0;34m.\u001b[0m\u001b[0merror_handler\u001b[0m\u001b[0;34m.\u001b[0m\u001b[0mcheck_response\u001b[0m\u001b[0;34m(\u001b[0m\u001b[0mresponse\u001b[0m\u001b[0;34m)\u001b[0m\u001b[0;34m\u001b[0m\u001b[0;34m\u001b[0m\u001b[0m\n\u001b[0m\u001b[1;32m    430\u001b[0m             response['value'] = self._unwrap_value(\n\u001b[1;32m    431\u001b[0m                 response.get('value', None))\n",
      "\u001b[0;32m~/opt/anaconda3/lib/python3.9/site-packages/selenium/webdriver/remote/errorhandler.py\u001b[0m in \u001b[0;36mcheck_response\u001b[0;34m(self, response)\u001b[0m\n\u001b[1;32m    241\u001b[0m                 \u001b[0malert_text\u001b[0m \u001b[0;34m=\u001b[0m \u001b[0mvalue\u001b[0m\u001b[0;34m[\u001b[0m\u001b[0;34m'alert'\u001b[0m\u001b[0;34m]\u001b[0m\u001b[0;34m.\u001b[0m\u001b[0mget\u001b[0m\u001b[0;34m(\u001b[0m\u001b[0;34m'text'\u001b[0m\u001b[0;34m)\u001b[0m\u001b[0;34m\u001b[0m\u001b[0;34m\u001b[0m\u001b[0m\n\u001b[1;32m    242\u001b[0m             \u001b[0;32mraise\u001b[0m \u001b[0mexception_class\u001b[0m\u001b[0;34m(\u001b[0m\u001b[0mmessage\u001b[0m\u001b[0;34m,\u001b[0m \u001b[0mscreen\u001b[0m\u001b[0;34m,\u001b[0m \u001b[0mstacktrace\u001b[0m\u001b[0;34m,\u001b[0m \u001b[0malert_text\u001b[0m\u001b[0;34m)\u001b[0m  \u001b[0;31m# type: ignore[call-arg]  # mypy is not smart enough here\u001b[0m\u001b[0;34m\u001b[0m\u001b[0;34m\u001b[0m\u001b[0m\n\u001b[0;32m--> 243\u001b[0;31m         \u001b[0;32mraise\u001b[0m \u001b[0mexception_class\u001b[0m\u001b[0;34m(\u001b[0m\u001b[0mmessage\u001b[0m\u001b[0;34m,\u001b[0m \u001b[0mscreen\u001b[0m\u001b[0;34m,\u001b[0m \u001b[0mstacktrace\u001b[0m\u001b[0;34m)\u001b[0m\u001b[0;34m\u001b[0m\u001b[0;34m\u001b[0m\u001b[0m\n\u001b[0m",
      "\u001b[0;31mNoSuchElementException\u001b[0m: Message: no such element: Unable to locate element: {\"method\":\"xpath\",\"selector\":\"xpath\"}\n  (Session info: chrome=106.0.5249.119)\nStacktrace:\n0   chromedriver                        0x000000010eb3b598 chromedriver + 4404632\n1   chromedriver                        0x000000010eac2fa3 chromedriver + 3911587\n2   chromedriver                        0x000000010e76fe6a chromedriver + 425578\n3   chromedriver                        0x000000010e7a7c91 chromedriver + 654481\n4   chromedriver                        0x000000010e7a7e91 chromedriver + 654993\n5   chromedriver                        0x000000010e7df274 chromedriver + 881268\n6   chromedriver                        0x000000010e7c5dcd chromedriver + 777677\n7   chromedriver                        0x000000010e7dcf79 chromedriver + 872313\n8   chromedriver                        0x000000010e7c5bd3 chromedriver + 777171\n9   chromedriver                        0x000000010e79aced chromedriver + 601325\n10  chromedriver                        0x000000010e79be51 chromedriver + 605777\n11  chromedriver                        0x000000010eb0b0ce chromedriver + 4206798\n12  chromedriver                        0x000000010eb0f797 chromedriver + 4224919\n13  chromedriver                        0x000000010eb16a4f chromedriver + 4254287\n14  chromedriver                        0x000000010eb104da chromedriver + 4228314\n15  chromedriver                        0x000000010eae923f chromedriver + 4067903\n16  chromedriver                        0x000000010eb2d6a8 chromedriver + 4347560\n17  chromedriver                        0x000000010eb2d816 chromedriver + 4347926\n18  chromedriver                        0x000000010eb428fe chromedriver + 4434174\n19  libsystem_pthread.dylib             0x00007fff204cf8fc _pthread_start + 224\n20  libsystem_pthread.dylib             0x00007fff204cb443 thread_start + 15\n"
     ]
    }
   ],
   "source": [
    "#//*[@id=\"pageList\"]/a[1] 숫자가 하나씩 늘어남.\n",
    "\n",
    "import time\n",
    "\n",
    "for i in range(1, 11):\n",
    "    xpath = '//*[@id=\"pageList\"]/a[{}]'.format(str(i))\n",
    "    browser.find_element(By.XPATH, 'xpath').click()\n",
    "    time.sleep(5)\n"
   ]
  },
  {
   "cell_type": "code",
   "execution_count": 91,
   "id": "79f3629a",
   "metadata": {},
   "outputs": [
    {
     "data": {
      "text/plain": [
       "'https://www.dbpia.co.kr/journal/articleDetail?nodeId=NODE11139855'"
      ]
     },
     "execution_count": 91,
     "metadata": {},
     "output_type": "execute_result"
    }
   ],
   "source": [
    "browser.find_element(By.CLASS_NAME, 'thesis__link').get_attribute('href')"
   ]
  },
  {
   "cell_type": "code",
   "execution_count": 93,
   "id": "394cdc4b",
   "metadata": {},
   "outputs": [
    {
     "name": "stdout",
     "output_type": "stream",
     "text": [
      "[]\n"
     ]
    }
   ],
   "source": [
    "links = browser.find_elements(By.CLASS_NAME, 'thesis__link')\n",
    "\n",
    "# 링크 > 세부사항 얻기 > 나가기\n",
    "# 클래스 가져올때 중복되는지 체크하기\n",
    "\n",
    "content_list = []\n",
    "\n",
    "for element in links:\n",
    "    link = element.get_attribute('href')\n",
    "    browser.get(link) # 세부 페이지로 이동\n",
    "    \n",
    "    time.sleep(3)\n",
    "    \n",
    "    try:\n",
    "        content = browser.find_element(By.CLASS_NAME, 'abstractTxt').text #\n",
    "    except: # content가 없는 것은 클래스명이 nodata임.\n",
    "        content = \"vacant\"\n",
    "        \n",
    "    content_list.append(content)    \n",
    "    browser.back() # 뒤로 가기\n",
    "    \n",
    "\n",
    "print(content_list)    \n",
    "    "
   ]
  },
  {
   "cell_type": "code",
   "execution_count": 77,
   "id": "a78fc64b",
   "metadata": {},
   "outputs": [],
   "source": [
    "containers = browser.find_elements(By.CLASS_NAME, 'thesis__summary')\n",
    "\n",
    "for element in containers:\n",
    "#     print(element.get_attribute('href')) # None임 안에 href가 없음\n",
    "    element.find_element(By.CLASS_NAME, 'thesis__link').get_attribute('href') # 자식 > href 추출"
   ]
  },
  {
   "cell_type": "code",
   "execution_count": null,
   "id": "2908a4ca",
   "metadata": {},
   "outputs": [],
   "source": []
  }
 ],
 "metadata": {
  "kernelspec": {
   "display_name": "Python 3 (ipykernel)",
   "language": "python",
   "name": "python3"
  },
  "language_info": {
   "codemirror_mode": {
    "name": "ipython",
    "version": 3
   },
   "file_extension": ".py",
   "mimetype": "text/x-python",
   "name": "python",
   "nbconvert_exporter": "python",
   "pygments_lexer": "ipython3",
   "version": "3.9.13"
  }
 },
 "nbformat": 4,
 "nbformat_minor": 5
}
