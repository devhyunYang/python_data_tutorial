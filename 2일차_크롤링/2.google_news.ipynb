{
 "cells": [
  {
   "cell_type": "markdown",
   "id": "09a6b317",
   "metadata": {},
   "source": [
    "# 구글 뉴스 크롤링(10p)\n",
    "\n",
    "## 목적 :  구글 뉴스를 10페이지까지 긁어오기"
   ]
  },
  {
   "cell_type": "code",
   "execution_count": 12,
   "id": "1f3c3459",
   "metadata": {},
   "outputs": [],
   "source": [
    "from selenium import webdriver"
   ]
  },
  {
   "cell_type": "code",
   "execution_count": 61,
   "id": "fb459e8b",
   "metadata": {},
   "outputs": [
    {
     "name": "stderr",
     "output_type": "stream",
     "text": [
      "/var/folders/90/6xm8gvdx3rqcjl3c148y_bjw0000gn/T/ipykernel_62731/139041283.py:3: DeprecationWarning: executable_path has been deprecated, please pass in a Service object\n",
      "  browser = webdriver.Chrome(path)\n"
     ]
    }
   ],
   "source": [
    "path = \"/Users/yangdahyun/Desktop/chromedriver\"\n",
    "\n",
    "browser = webdriver.Chrome(path)\n"
   ]
  },
  {
   "cell_type": "code",
   "execution_count": 62,
   "id": "d7f9a858",
   "metadata": {},
   "outputs": [
    {
     "name": "stdout",
     "output_type": "stream",
     "text": [
      "서치하고자 하는 단어사과\n",
      "크롤링하고자 하는 페이지2\n",
      "\"양구사과 우수성 알린다\"… 27일 품평회 개최\n",
      "2022 양구군 우수사과 품평회 개최\n",
      "이마트, ‘프리미엄 햇사과’ 3종 판매 확대 < 중요기사4 < 유통 ...\n",
      "내 사전에 '사과'란 없다?... 尹, '상욕' 사과요구에 “사과할 일 안 ...\n",
      "10월 24일 '애플데이' 햇사과 나눔행사 북적\n",
      "[충주소식] 올해 사과 명인 4명 선정\n",
      "영주 별사과 사과즙 대만 수출길 열어\n",
      "대형 로펌 변호사들과 술자리?→“국민 상대 거짓말…사과해야”\n",
      "'영주사과축제' 부석사 일원서 개막..당도 높은 사과 선보여\n",
      "충주시, ‘사과 최고 명인’ 4명 선정\n"
     ]
    }
   ],
   "source": [
    "import time\n",
    "\n",
    "search_word = input(\"서치하고자 하는 단어\")\n",
    "page = int(input(\"크롤링하고자 하는 페이지\"))\n",
    "\n",
    "url = 'https://www.google.com/search?q={}&tbs=qdr:w&tbm=nws&ei=zsJYY6HdF8aioATS762gCw&start={}&sa=N&ved=2ahUKEwih_IaUkv36AhVGEYgKHdJ3C7QQ8tMDegQIARAG&biw=645&bih=707&dpr=2'\n",
    "# url = url.format(search_word, page)\n",
    "\n",
    "# browser.get(url)\n",
    "\n",
    "# range(start, stop, step)\n",
    "# 페이지 넘버 변경 \n",
    "for i in range(0, page*10, 10):\n",
    "    final_url = url.format(search_word, i)\n",
    "    \n",
    "    browser.get(final_url)\n",
    "    time.sleep(3) # 자동화 사람이 하는 것처럼 시간 주기 무조건 3초\n",
    "    browser.implicitly_wait(10) # 3초 기다렸는데 로딩이 안되면 10초를 기다려서, 안되면 오류를 뱉어내고, 만약에 그 전에 로딩이 되면 진행!\n",
    "    \n",
    "    titles = browser.find_elements(By.CLASS_NAME, 'mCBkyc')\n",
    "    \n",
    "    for title in titles:\n",
    "        print(title.text)\n",
    "\n"
   ]
  },
  {
   "cell_type": "code",
   "execution_count": 56,
   "id": "3a2be307",
   "metadata": {},
   "outputs": [],
   "source": [
    "# page = int(input(\"크롤링하고자 하는 페이지수를 입력하시오\"))\n",
    "\n",
    "# for i in range(0, page*10, 10):\n",
    "#     url = \"google.com/page={}\".format(i)\n",
    "#     print(url)"
   ]
  },
  {
   "cell_type": "code",
   "execution_count": 41,
   "id": "d0366a1e",
   "metadata": {},
   "outputs": [],
   "source": [
    "# from selenium.webdriver.common.by import By"
   ]
  },
  {
   "cell_type": "code",
   "execution_count": 46,
   "id": "7267431e",
   "metadata": {},
   "outputs": [
    {
     "ename": "AttributeError",
     "evalue": "'list' object has no attribute 'text'",
     "output_type": "error",
     "traceback": [
      "\u001b[0;31m---------------------------------------------------------------------------\u001b[0m",
      "\u001b[0;31mAttributeError\u001b[0m                            Traceback (most recent call last)",
      "\u001b[0;32m/var/folders/90/6xm8gvdx3rqcjl3c148y_bjw0000gn/T/ipykernel_62731/3789569684.py\u001b[0m in \u001b[0;36m<module>\u001b[0;34m\u001b[0m\n\u001b[0;32m----> 1\u001b[0;31m \u001b[0mtitles\u001b[0m \u001b[0;34m=\u001b[0m \u001b[0mbrowser\u001b[0m\u001b[0;34m.\u001b[0m\u001b[0mfind_elements\u001b[0m\u001b[0;34m(\u001b[0m\u001b[0mBy\u001b[0m\u001b[0;34m.\u001b[0m\u001b[0mCLASS_NAME\u001b[0m\u001b[0;34m,\u001b[0m \u001b[0;34m'LC20lb'\u001b[0m\u001b[0;34m)\u001b[0m\u001b[0;34m.\u001b[0m\u001b[0mtext\u001b[0m\u001b[0;34m\u001b[0m\u001b[0;34m\u001b[0m\u001b[0m\n\u001b[0m\u001b[1;32m      2\u001b[0m \u001b[0;34m\u001b[0m\u001b[0m\n\u001b[1;32m      3\u001b[0m \u001b[0mtitle\u001b[0m \u001b[0;34m=\u001b[0m \u001b[0;34m[\u001b[0m\u001b[0;34m]\u001b[0m\u001b[0;34m\u001b[0m\u001b[0;34m\u001b[0m\u001b[0m\n\u001b[1;32m      4\u001b[0m \u001b[0;34m\u001b[0m\u001b[0m\n\u001b[1;32m      5\u001b[0m \u001b[0;32mfor\u001b[0m \u001b[0mi\u001b[0m \u001b[0;32min\u001b[0m \u001b[0mtitles\u001b[0m\u001b[0;34m:\u001b[0m\u001b[0;34m\u001b[0m\u001b[0;34m\u001b[0m\u001b[0m\n",
      "\u001b[0;31mAttributeError\u001b[0m: 'list' object has no attribute 'text'"
     ]
    }
   ],
   "source": [
    "# titles = browser.find_elements(By.CLASS_NAME, 'LC20lb').text\n",
    "\n",
    "# title = []\n",
    "\n",
    "# for i in titles:\n",
    "#     title = i.text\n",
    "#     print(title)"
   ]
  },
  {
   "cell_type": "code",
   "execution_count": null,
   "id": "fc4a572a",
   "metadata": {},
   "outputs": [],
   "source": []
  }
 ],
 "metadata": {
  "kernelspec": {
   "display_name": "Python 3 (ipykernel)",
   "language": "python",
   "name": "python3"
  },
  "language_info": {
   "codemirror_mode": {
    "name": "ipython",
    "version": 3
   },
   "file_extension": ".py",
   "mimetype": "text/x-python",
   "name": "python",
   "nbconvert_exporter": "python",
   "pygments_lexer": "ipython3",
   "version": "3.9.13"
  }
 },
 "nbformat": 4,
 "nbformat_minor": 5
}
