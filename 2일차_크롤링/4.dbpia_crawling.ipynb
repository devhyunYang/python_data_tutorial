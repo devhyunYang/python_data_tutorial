{
 "cells": [
  {
   "cell_type": "markdown",
   "id": "a1af1fe1",
   "metadata": {},
   "source": [
    "# DBpia 논문 데이터 크롤링\n",
    "기본 페이지 정보 + 특정 정보 상세 페이지로 접근을 해서 데이터를 얻어오는 크롤링\n",
    "\n",
    "링크를 가져와서 상세 페이지 내용 가져오기"
   ]
  },
  {
   "cell_type": "code",
   "execution_count": null,
   "id": "482c6e20",
   "metadata": {},
   "outputs": [],
   "source": []
  }
 ],
 "metadata": {
  "kernelspec": {
   "display_name": "Python 3 (ipykernel)",
   "language": "python",
   "name": "python3"
  },
  "language_info": {
   "codemirror_mode": {
    "name": "ipython",
    "version": 3
   },
   "file_extension": ".py",
   "mimetype": "text/x-python",
   "name": "python",
   "nbconvert_exporter": "python",
   "pygments_lexer": "ipython3",
   "version": "3.9.13"
  }
 },
 "nbformat": 4,
 "nbformat_minor": 5
}
