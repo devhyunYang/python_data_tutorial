{
 "cells": [
  {
   "cell_type": "markdown",
   "id": "a1af1fe1",
   "metadata": {},
   "source": [
    "# DBpia 논문 데이터 크롤링\n",
    "기본 페이지 정보 + 특정 정보 상세 페이지로 접근을 해서 데이터를 얻어오는 크롤링\n",
    "\n",
    "링크를 가져와서 상세 페이지 내용 가져오기"
   ]
  },
  {
   "cell_type": "code",
   "execution_count": 134,
   "id": "482c6e20",
   "metadata": {},
   "outputs": [],
   "source": [
    "from selenium import webdriver\n",
    "from selenium.webdriver.common.by import By\n",
    "import time"
   ]
  },
  {
   "cell_type": "code",
   "execution_count": 135,
   "id": "645775ba",
   "metadata": {},
   "outputs": [
    {
     "name": "stderr",
     "output_type": "stream",
     "text": [
      "/var/folders/90/6xm8gvdx3rqcjl3c148y_bjw0000gn/T/ipykernel_76910/276143158.py:3: DeprecationWarning: executable_path has been deprecated, please pass in a Service object\n",
      "  browser = webdriver.Chrome(path)\n"
     ]
    }
   ],
   "source": [
    "path = \"/Users/yangdahyun/Desktop/chromedriver\"\n",
    "\n",
    "browser = webdriver.Chrome(path)"
   ]
  },
  {
   "cell_type": "code",
   "execution_count": 136,
   "id": "83f30726",
   "metadata": {},
   "outputs": [],
   "source": [
    "browser.get(\"https://www.dbpia.co.kr/\")"
   ]
  },
  {
   "cell_type": "code",
   "execution_count": 137,
   "id": "ffe1222f",
   "metadata": {},
   "outputs": [],
   "source": [
    "browser.find_element(By.ID, 'keyword').click()"
   ]
  },
  {
   "cell_type": "code",
   "execution_count": 138,
   "id": "9f9932bd",
   "metadata": {},
   "outputs": [
    {
     "name": "stdout",
     "output_type": "stream",
     "text": [
      "검색하고자 하는 논문의 제목을 입력하세요 : 공연\n",
      "https://www.dbpia.co.kr/search/topSearch?startCount=0&collection=ALL&range=A&searchField=ALL&sort=RANK&query=공연&srchOption=*&includeAr=false\n"
     ]
    }
   ],
   "source": [
    "search_word = input(\"검색하고자 하는 논문의 제목을 입력하세요 : \")\n",
    "url = 'https://www.dbpia.co.kr/search/topSearch?startCount=0&collection=ALL&range=A&searchField=ALL&sort=RANK&query={}&srchOption=*&includeAr=false'\n",
    "\n",
    "final_url = url.format(search_word)\n",
    "print(final_url)\n",
    "browser.get(final_url)"
   ]
  },
  {
   "cell_type": "code",
   "execution_count": 115,
   "id": "3b5dc2a0",
   "metadata": {},
   "outputs": [
    {
     "name": "stdout",
     "output_type": "stream",
     "text": [
      "['한국 배리어프리 공연 지원의 방향성', \"포스트 코로나시대 비대면 온라인 공연 감상의 발전 가능성 탐색 - 서울시향 '브람스헝가리무곡,' 국립관현악단 '삼삼오樂', 뮤지컬 '명성황후' -\", '그림자극의 공연 미학적 특성 연구 : 그림자극 〈미녀와 야수〉의 제작과정을 중심으로', '뉴미디어 환경에서 중국 공연 시장의 미래 발전 전략', '중국 전통 공연예술의 대중화 발전 연구 : ?중국 상성(相聲) 사례 중심으로?', '중국의 극장 공연 프로그램 기획 연구', '공연문화의 성장과 하우스매니저의 위상 변화에 관한 연구', '[기획 노트] 〈옥상 위 카우보이〉 : 특별할 것 없는 특별한 공연을 만들기 –〈옥상 위 카우보이〉 배리어 프리 공연 만들기', 'K-pop 비대면 공연콘텐츠 다변화상황 고찰', '메타버스 유형별 공연예술기획 가능성', '1920년대 <산송장>의 번역과 공연에 관한 연구 - 토월회〈산송장〉공연 상황을 중심으로', '공연예술콘텐츠로서 비대면 태권도공연의 이미지 포지셔닝 분석에 관한 연구', '한국민속예술축제와 문화재 지정을 통한 향토민요의 공연 양상과 과제', '태권도 공연 관람객의 관객체험가치가 관람만족에 미치는 영향: 액션플로우의 매개효과', '「어머니」공연에 포착된 갈등과 무대적 표현 방식에 관한 연구 — 극예술연구회의 「어머니」공연 장면을 중심으로', '코로나 시기, 이머시브 공연은 어떠한가 - 김태형 연출가, 이진엽 연출가, 전윤환 연출가 사례 분석을 통해', '직장 내 장애인 인식개선 교육 “한빛예술단” 공연 외', \"유네스코 인류무형문화유산 '영산재'의 공연 현황과 과제\", '메타버스 세계의 공연 콘텐츠 탐색 연구', '공연 및 행사 정보 서비스 챗봇 설계 및 구현']\n"
     ]
    }
   ],
   "source": [
    "browser.implicitly_wait(5)\n",
    "\n",
    "titles = browser.find_elements(By.CLASS_NAME, 'thesis__tit')\n",
    "title = []\n",
    "\n",
    "for i in titles:\n",
    "    temp_title = i.text\n",
    "    title.append(temp_title)\n",
    "    \n",
    "print(title)"
   ]
  },
  {
   "cell_type": "code",
   "execution_count": 69,
   "id": "6724281c",
   "metadata": {},
   "outputs": [
    {
     "data": {
      "text/plain": [
       "['https://www.dbpia.co.kr/journal/articleDetail?nodeId=NODE11139855',\n",
       " 'https://www.dbpia.co.kr/journal/articleDetail?nodeId=NODE11138506',\n",
       " 'https://www.dbpia.co.kr/journal/articleDetail?nodeId=NODE11139397',\n",
       " 'https://www.dbpia.co.kr/journal/articleDetail?nodeId=NODE11144464',\n",
       " 'https://www.dbpia.co.kr/journal/articleDetail?nodeId=NODE11140220',\n",
       " 'https://www.dbpia.co.kr/journal/articleDetail?nodeId=NODE11136896',\n",
       " 'https://www.dbpia.co.kr/journal/articleDetail?nodeId=NODE11143603',\n",
       " 'https://www.dbpia.co.kr/journal/articleDetail?nodeId=NODE11140186',\n",
       " 'https://www.dbpia.co.kr/journal/articleDetail?nodeId=NODE11143234',\n",
       " 'https://www.dbpia.co.kr/journal/articleDetail?nodeId=NODE11139981',\n",
       " 'https://www.dbpia.co.kr/journal/articleDetail?nodeId=NODE11139969',\n",
       " 'https://www.dbpia.co.kr/journal/articleDetail?nodeId=NODE11138316',\n",
       " 'https://www.dbpia.co.kr/journal/articleDetail?nodeId=NODE11140185',\n",
       " 'https://www.dbpia.co.kr/journal/articleDetail?nodeId=NODE11143185',\n",
       " 'https://www.dbpia.co.kr/journal/articleDetail?nodeId=NODE11139716',\n",
       " 'https://www.dbpia.co.kr/journal/articleDetail?nodeId=NODE11139709',\n",
       " 'https://www.dbpia.co.kr/journal/articleDetail?nodeId=NODE11144116',\n",
       " 'https://www.dbpia.co.kr/journal/articleDetail?nodeId=NODE11135038',\n",
       " 'https://www.dbpia.co.kr/journal/articleDetail?nodeId=NODE11142008',\n",
       " 'https://www.dbpia.co.kr/journal/articleDetail?nodeId=NODE11137764']"
      ]
     },
     "execution_count": 69,
     "metadata": {},
     "output_type": "execute_result"
    }
   ],
   "source": [
    "links = browser.find_elements(By.CLASS_NAME, 'thesis__link')\n",
    "\n",
    "link = []\n",
    "for i in links:\n",
    "    link.append(i.get_attribute('href'))\n",
    "\n",
    "link"
   ]
  },
  {
   "cell_type": "code",
   "execution_count": 131,
   "id": "30b4f653",
   "metadata": {},
   "outputs": [
    {
     "ename": "NoSuchElementException",
     "evalue": "Message: no such element: Unable to locate element: {\"method\":\"xpath\",\"selector\":\"xpath\"}\n  (Session info: chrome=106.0.5249.119)\nStacktrace:\n0   chromedriver                        0x00000001100f3598 chromedriver + 4404632\n1   chromedriver                        0x000000011007afa3 chromedriver + 3911587\n2   chromedriver                        0x000000010fd27e6a chromedriver + 425578\n3   chromedriver                        0x000000010fd5fc91 chromedriver + 654481\n4   chromedriver                        0x000000010fd5fe91 chromedriver + 654993\n5   chromedriver                        0x000000010fd97274 chromedriver + 881268\n6   chromedriver                        0x000000010fd7ddcd chromedriver + 777677\n7   chromedriver                        0x000000010fd94f79 chromedriver + 872313\n8   chromedriver                        0x000000010fd7dbd3 chromedriver + 777171\n9   chromedriver                        0x000000010fd52ced chromedriver + 601325\n10  chromedriver                        0x000000010fd53e51 chromedriver + 605777\n11  chromedriver                        0x00000001100c30ce chromedriver + 4206798\n12  chromedriver                        0x00000001100c7797 chromedriver + 4224919\n13  chromedriver                        0x00000001100cea4f chromedriver + 4254287\n14  chromedriver                        0x00000001100c84da chromedriver + 4228314\n15  chromedriver                        0x00000001100a123f chromedriver + 4067903\n16  chromedriver                        0x00000001100e56a8 chromedriver + 4347560\n17  chromedriver                        0x00000001100e5816 chromedriver + 4347926\n18  chromedriver                        0x00000001100fa8fe chromedriver + 4434174\n19  libsystem_pthread.dylib             0x00007fff204cf8fc _pthread_start + 224\n20  libsystem_pthread.dylib             0x00007fff204cb443 thread_start + 15\n",
     "output_type": "error",
     "traceback": [
      "\u001b[0;31m---------------------------------------------------------------------------\u001b[0m",
      "\u001b[0;31mNoSuchElementException\u001b[0m                    Traceback (most recent call last)",
      "\u001b[0;32m/var/folders/90/6xm8gvdx3rqcjl3c148y_bjw0000gn/T/ipykernel_76910/419977192.py\u001b[0m in \u001b[0;36m<module>\u001b[0;34m\u001b[0m\n\u001b[1;32m      5\u001b[0m \u001b[0;32mfor\u001b[0m \u001b[0mi\u001b[0m \u001b[0;32min\u001b[0m \u001b[0mrange\u001b[0m\u001b[0;34m(\u001b[0m\u001b[0;36m1\u001b[0m\u001b[0;34m,\u001b[0m \u001b[0;36m11\u001b[0m\u001b[0;34m)\u001b[0m\u001b[0;34m:\u001b[0m\u001b[0;34m\u001b[0m\u001b[0;34m\u001b[0m\u001b[0m\n\u001b[1;32m      6\u001b[0m     \u001b[0mxpath\u001b[0m \u001b[0;34m=\u001b[0m \u001b[0;34m'//*[@id=\"pageList\"]/a[{}]'\u001b[0m\u001b[0;34m.\u001b[0m\u001b[0mformat\u001b[0m\u001b[0;34m(\u001b[0m\u001b[0mstr\u001b[0m\u001b[0;34m(\u001b[0m\u001b[0mi\u001b[0m\u001b[0;34m)\u001b[0m\u001b[0;34m)\u001b[0m\u001b[0;34m\u001b[0m\u001b[0;34m\u001b[0m\u001b[0m\n\u001b[0;32m----> 7\u001b[0;31m     \u001b[0mbrowser\u001b[0m\u001b[0;34m.\u001b[0m\u001b[0mfind_element\u001b[0m\u001b[0;34m(\u001b[0m\u001b[0mBy\u001b[0m\u001b[0;34m.\u001b[0m\u001b[0mXPATH\u001b[0m\u001b[0;34m,\u001b[0m \u001b[0;34m'xpath'\u001b[0m\u001b[0;34m)\u001b[0m\u001b[0;34m.\u001b[0m\u001b[0mclick\u001b[0m\u001b[0;34m(\u001b[0m\u001b[0;34m)\u001b[0m\u001b[0;34m\u001b[0m\u001b[0;34m\u001b[0m\u001b[0m\n\u001b[0m\u001b[1;32m      8\u001b[0m     \u001b[0mtime\u001b[0m\u001b[0;34m.\u001b[0m\u001b[0msleep\u001b[0m\u001b[0;34m(\u001b[0m\u001b[0;36m5\u001b[0m\u001b[0;34m)\u001b[0m\u001b[0;34m\u001b[0m\u001b[0;34m\u001b[0m\u001b[0m\n",
      "\u001b[0;32m~/opt/anaconda3/lib/python3.9/site-packages/selenium/webdriver/remote/webdriver.py\u001b[0m in \u001b[0;36mfind_element\u001b[0;34m(self, by, value)\u001b[0m\n\u001b[1;32m    854\u001b[0m             \u001b[0mvalue\u001b[0m \u001b[0;34m=\u001b[0m \u001b[0;34m'[name=\"%s\"]'\u001b[0m \u001b[0;34m%\u001b[0m \u001b[0mvalue\u001b[0m\u001b[0;34m\u001b[0m\u001b[0;34m\u001b[0m\u001b[0m\n\u001b[1;32m    855\u001b[0m \u001b[0;34m\u001b[0m\u001b[0m\n\u001b[0;32m--> 856\u001b[0;31m         return self.execute(Command.FIND_ELEMENT, {\n\u001b[0m\u001b[1;32m    857\u001b[0m             \u001b[0;34m'using'\u001b[0m\u001b[0;34m:\u001b[0m \u001b[0mby\u001b[0m\u001b[0;34m,\u001b[0m\u001b[0;34m\u001b[0m\u001b[0;34m\u001b[0m\u001b[0m\n\u001b[1;32m    858\u001b[0m             'value': value})['value']\n",
      "\u001b[0;32m~/opt/anaconda3/lib/python3.9/site-packages/selenium/webdriver/remote/webdriver.py\u001b[0m in \u001b[0;36mexecute\u001b[0;34m(self, driver_command, params)\u001b[0m\n\u001b[1;32m    427\u001b[0m         \u001b[0mresponse\u001b[0m \u001b[0;34m=\u001b[0m \u001b[0mself\u001b[0m\u001b[0;34m.\u001b[0m\u001b[0mcommand_executor\u001b[0m\u001b[0;34m.\u001b[0m\u001b[0mexecute\u001b[0m\u001b[0;34m(\u001b[0m\u001b[0mdriver_command\u001b[0m\u001b[0;34m,\u001b[0m \u001b[0mparams\u001b[0m\u001b[0;34m)\u001b[0m\u001b[0;34m\u001b[0m\u001b[0;34m\u001b[0m\u001b[0m\n\u001b[1;32m    428\u001b[0m         \u001b[0;32mif\u001b[0m \u001b[0mresponse\u001b[0m\u001b[0;34m:\u001b[0m\u001b[0;34m\u001b[0m\u001b[0;34m\u001b[0m\u001b[0m\n\u001b[0;32m--> 429\u001b[0;31m             \u001b[0mself\u001b[0m\u001b[0;34m.\u001b[0m\u001b[0merror_handler\u001b[0m\u001b[0;34m.\u001b[0m\u001b[0mcheck_response\u001b[0m\u001b[0;34m(\u001b[0m\u001b[0mresponse\u001b[0m\u001b[0;34m)\u001b[0m\u001b[0;34m\u001b[0m\u001b[0;34m\u001b[0m\u001b[0m\n\u001b[0m\u001b[1;32m    430\u001b[0m             response['value'] = self._unwrap_value(\n\u001b[1;32m    431\u001b[0m                 response.get('value', None))\n",
      "\u001b[0;32m~/opt/anaconda3/lib/python3.9/site-packages/selenium/webdriver/remote/errorhandler.py\u001b[0m in \u001b[0;36mcheck_response\u001b[0;34m(self, response)\u001b[0m\n\u001b[1;32m    241\u001b[0m                 \u001b[0malert_text\u001b[0m \u001b[0;34m=\u001b[0m \u001b[0mvalue\u001b[0m\u001b[0;34m[\u001b[0m\u001b[0;34m'alert'\u001b[0m\u001b[0;34m]\u001b[0m\u001b[0;34m.\u001b[0m\u001b[0mget\u001b[0m\u001b[0;34m(\u001b[0m\u001b[0;34m'text'\u001b[0m\u001b[0;34m)\u001b[0m\u001b[0;34m\u001b[0m\u001b[0;34m\u001b[0m\u001b[0m\n\u001b[1;32m    242\u001b[0m             \u001b[0;32mraise\u001b[0m \u001b[0mexception_class\u001b[0m\u001b[0;34m(\u001b[0m\u001b[0mmessage\u001b[0m\u001b[0;34m,\u001b[0m \u001b[0mscreen\u001b[0m\u001b[0;34m,\u001b[0m \u001b[0mstacktrace\u001b[0m\u001b[0;34m,\u001b[0m \u001b[0malert_text\u001b[0m\u001b[0;34m)\u001b[0m  \u001b[0;31m# type: ignore[call-arg]  # mypy is not smart enough here\u001b[0m\u001b[0;34m\u001b[0m\u001b[0;34m\u001b[0m\u001b[0m\n\u001b[0;32m--> 243\u001b[0;31m         \u001b[0;32mraise\u001b[0m \u001b[0mexception_class\u001b[0m\u001b[0;34m(\u001b[0m\u001b[0mmessage\u001b[0m\u001b[0;34m,\u001b[0m \u001b[0mscreen\u001b[0m\u001b[0;34m,\u001b[0m \u001b[0mstacktrace\u001b[0m\u001b[0;34m)\u001b[0m\u001b[0;34m\u001b[0m\u001b[0;34m\u001b[0m\u001b[0m\n\u001b[0m",
      "\u001b[0;31mNoSuchElementException\u001b[0m: Message: no such element: Unable to locate element: {\"method\":\"xpath\",\"selector\":\"xpath\"}\n  (Session info: chrome=106.0.5249.119)\nStacktrace:\n0   chromedriver                        0x00000001100f3598 chromedriver + 4404632\n1   chromedriver                        0x000000011007afa3 chromedriver + 3911587\n2   chromedriver                        0x000000010fd27e6a chromedriver + 425578\n3   chromedriver                        0x000000010fd5fc91 chromedriver + 654481\n4   chromedriver                        0x000000010fd5fe91 chromedriver + 654993\n5   chromedriver                        0x000000010fd97274 chromedriver + 881268\n6   chromedriver                        0x000000010fd7ddcd chromedriver + 777677\n7   chromedriver                        0x000000010fd94f79 chromedriver + 872313\n8   chromedriver                        0x000000010fd7dbd3 chromedriver + 777171\n9   chromedriver                        0x000000010fd52ced chromedriver + 601325\n10  chromedriver                        0x000000010fd53e51 chromedriver + 605777\n11  chromedriver                        0x00000001100c30ce chromedriver + 4206798\n12  chromedriver                        0x00000001100c7797 chromedriver + 4224919\n13  chromedriver                        0x00000001100cea4f chromedriver + 4254287\n14  chromedriver                        0x00000001100c84da chromedriver + 4228314\n15  chromedriver                        0x00000001100a123f chromedriver + 4067903\n16  chromedriver                        0x00000001100e56a8 chromedriver + 4347560\n17  chromedriver                        0x00000001100e5816 chromedriver + 4347926\n18  chromedriver                        0x00000001100fa8fe chromedriver + 4434174\n19  libsystem_pthread.dylib             0x00007fff204cf8fc _pthread_start + 224\n20  libsystem_pthread.dylib             0x00007fff204cb443 thread_start + 15\n"
     ]
    }
   ],
   "source": [
    "#//*[@id=\"pageList\"]/a[1] 숫자가 하나씩 늘어남.\n",
    "\n",
    "import time\n",
    "\n",
    "for i in range(1, 11):\n",
    "    xpath = '//*[@id=\"pageList\"]/a[{}]'.format(str(i))\n",
    "    browser.find_element(By.XPATH, 'xpath').click()\n",
    "    time.sleep(5)\n"
   ]
  },
  {
   "cell_type": "code",
   "execution_count": 139,
   "id": "28acb20a",
   "metadata": {},
   "outputs": [
    {
     "data": {
      "text/plain": [
       "'https://www.dbpia.co.kr/journal/articleDetail?nodeId=NODE11142078'"
      ]
     },
     "execution_count": 139,
     "metadata": {},
     "output_type": "execute_result"
    }
   ],
   "source": [
    "browser.find_element(By.CLASS_NAME, 'thesis__link').get_attribute('href')"
   ]
  },
  {
   "cell_type": "code",
   "execution_count": 133,
   "id": "2d1e9b57",
   "metadata": {},
   "outputs": [
    {
     "ename": "KeyboardInterrupt",
     "evalue": "",
     "output_type": "error",
     "traceback": [
      "\u001b[0;31m---------------------------------------------------------------------------\u001b[0m",
      "\u001b[0;31mKeyboardInterrupt\u001b[0m                         Traceback (most recent call last)",
      "\u001b[0;32m/var/folders/90/6xm8gvdx3rqcjl3c148y_bjw0000gn/T/ipykernel_76910/2136562370.py\u001b[0m in \u001b[0;36m<module>\u001b[0;34m\u001b[0m\n\u001b[1;32m     10\u001b[0m     \u001b[0mbrowser\u001b[0m\u001b[0;34m.\u001b[0m\u001b[0mget\u001b[0m\u001b[0;34m(\u001b[0m\u001b[0mlink\u001b[0m\u001b[0;34m)\u001b[0m \u001b[0;31m# 세부 페이지로 이동\u001b[0m\u001b[0;34m\u001b[0m\u001b[0;34m\u001b[0m\u001b[0m\n\u001b[1;32m     11\u001b[0m \u001b[0;34m\u001b[0m\u001b[0m\n\u001b[0;32m---> 12\u001b[0;31m     \u001b[0mtime\u001b[0m\u001b[0;34m.\u001b[0m\u001b[0msleep\u001b[0m\u001b[0;34m(\u001b[0m\u001b[0;36m3\u001b[0m\u001b[0;34m)\u001b[0m\u001b[0;34m\u001b[0m\u001b[0;34m\u001b[0m\u001b[0m\n\u001b[0m\u001b[1;32m     13\u001b[0m \u001b[0;34m\u001b[0m\u001b[0m\n\u001b[1;32m     14\u001b[0m     \u001b[0;32mtry\u001b[0m\u001b[0;34m:\u001b[0m\u001b[0;34m\u001b[0m\u001b[0;34m\u001b[0m\u001b[0m\n",
      "\u001b[0;31mKeyboardInterrupt\u001b[0m: "
     ]
    }
   ],
   "source": [
    "links = browser.find_elements(By.CLASS_NAME, 'thesis__link')\n",
    "\n",
    "# 링크 > 세부사항 얻기 > 나가기\n",
    "# 클래스 가져올때 중복되는지 체크하기\n",
    "\n",
    "content_list = []\n",
    "\n",
    "for element in links:\n",
    "    link = element.get_attribute('href')\n",
    "    browser.get(link) # 세부 페이지로 이동\n",
    "    \n",
    "    time.sleep(3)\n",
    "    \n",
    "    try:\n",
    "        content = browser.find_element(By.CLASS_NAME, 'abstractTxt').text #\n",
    "    except: # content가 없는 것은 클래스명이 nodata임.\n",
    "        content = \"vacant\"\n",
    "        \n",
    "    content_list.append(content)    \n",
    "    browser.back() # 뒤로 가기\n",
    "    \n",
    "\n",
    "print(content_list)    \n",
    "    "
   ]
  },
  {
   "cell_type": "code",
   "execution_count": 77,
   "id": "9d1a9cd4",
   "metadata": {},
   "outputs": [],
   "source": [
    "containers = browser.find_elements(By.CLASS_NAME, 'thesis__summary')\n",
    "\n",
    "for element in containers:\n",
    "#     print(element.get_attribute('href')) # None임 안에 href가 없음\n",
    "    element.find_element(By.CLASS_NAME, 'thesis__link').get_attribute('href') # 자식 > href 추출"
   ]
  },
  {
   "cell_type": "code",
   "execution_count": 140,
   "id": "487e3fa7",
   "metadata": {},
   "outputs": [
    {
     "name": "stdout",
     "output_type": "stream",
     "text": [
      "['https://www.dbpia.co.kr/journal/articleDetail?nodeId=NODE11142078', 'https://www.dbpia.co.kr/journal/articleDetail?nodeId=NODE11051463', 'https://www.dbpia.co.kr/search/topSearch?startCount=0&collection=ALL&range=A&searchField=ALL&sort=RANK&query=%EA%B3%B5%EC%97%B0&srchOption=*&includeAr=false#', 'https://www.dbpia.co.kr/search/topSearch?startCount=0&collection=ALL&range=A&searchField=ALL&sort=RANK&query=%EA%B3%B5%EC%97%B0&srchOption=*&includeAr=false#', 'https://www.dbpia.co.kr/search/topSearch?startCount=0&collection=ALL&range=A&searchField=ALL&sort=RANK&query=%EA%B3%B5%EC%97%B0&srchOption=*&includeAr=false#', 'https://www.dbpia.co.kr/search/topSearch?startCount=0&collection=ALL&range=A&searchField=ALL&sort=RANK&query=%EA%B3%B5%EC%97%B0&srchOption=*&includeAr=false#', 'https://www.dbpia.co.kr/search/topSearch?startCount=0&collection=ALL&range=A&searchField=ALL&sort=RANK&query=%EA%B3%B5%EC%97%B0&srchOption=*&includeAr=false#', 'https://www.dbpia.co.kr/journal/articleDetail?nodeId=NODE11023320', 'https://www.dbpia.co.kr/journal/articleDetail?nodeId=NODE11141167', 'https://www.dbpia.co.kr/journal/articleDetail?nodeId=NODE11125688', 'https://www.dbpia.co.kr/journal/articleDetail?nodeId=NODE11124516', 'https://www.dbpia.co.kr/journal/articleDetail?nodeId=NODE11124480', 'https://www.dbpia.co.kr/journal/articleDetail?nodeId=NODE11139899', 'https://www.dbpia.co.kr/journal/articleDetail?nodeId=NODE11121123', 'https://www.dbpia.co.kr/journal/articleDetail?nodeId=NODE11118352', 'https://www.dbpia.co.kr/journal/articleDetail?nodeId=NODE10618336', 'https://www.dbpia.co.kr/journal/articleDetail?nodeId=NODE11141634', 'https://www.dbpia.co.kr/journal/articleDetail?nodeId=NODE11106218', 'https://www.dbpia.co.kr/journal/articleDetail?nodeId=NODE11112618', 'https://www.dbpia.co.kr/journal/articleDetail?nodeId=NODE11140435']\n",
      "본 연구에서는 포스트코로나 대비하여 변화하고 있는 온라인 예술 공연 분야의 도움이 되고자 한다. 포스트코로나의 확산에 따른 ‘온라인 공연문화’에 대한 정의와 클래식, 국악, 뮤지컬 공연의 사례를 조사연구하고, 현재 음악분야에서 활동하고 있는 연주자와 공연을 즐겨 보는 관객들의 인터뷰 자료를 분석하여 결과를 정리하고자 한다. 포스트코로나에 대응하여 시행되고있는 비대연 음악 공연 사례 중 3가지 헝가리무곡, 아리랑Five은 온라인 공연을 위해 기획된 작품이지만 뮤지컬 명성황후는 기존의 작품의 녹화분을 비교 감상하게 함으로써 온라인 플렛폼과 온라인 공연을 비교 분석해보았다.\n",
      "연구의 주요 결과를 요약하연 다음과 같다. 첫째, 온라인 공연에서 문제점중 하나인 음질문제는 온라인 플랫폼 아리랑Five 음향과 음질수준이 높아서 국악공연보다 온라인 ‘아리랑Five’ 공연이 음질이나 현장감이 좋다고 응답했다. 둘째, 녹화분을 중개한 명성왕후와 온라인 플랫폼을 비교한 결과 녹화분을 감상한 참여자들은 몰입감이 떨어지고 지루했다고 했다. 셋째, 온라인 공연이 예술가들에게 한정된 대면 공연에서 벗어나 다양한 공연기회를 제공하고 관객을이 더 쉽게 공연을 접할 수 있도록 하여 공연계의 발전에 도움이 될 것으로 참여자들은 생각했다. 따라서 앞서 언급한 연구 한계를 보완해나가고, 무대 연출은 AR, VR 등의 기술과의 융합을 통해 해결하고, 음향은 최신 음향 장비 활용 등을 통해 음질을 향상시킬 수 있을 것이다. 이러한 기술들을 적절히 사용하여 포스트코로나 시대의 온라인 공연 문화를 발전시키고, 대중화 시켜 나가야 할 것이다.\n",
      "\n",
      "This paper is aimed to help in the field of online art performances that are changing in preparation for post-Covid-19. The definition of “online performance culture” following the spread of the Covid-19 and cases of classical music, Korean traditional performance, and musical performance were investigated and studied, and the results of interviews of performers currently active in music field and audiences who enjoy performances were summarized. The cases are Hungarian song, Arirang Five, musical Empress Myeongseong. The first two performances are designed for online performances, but the last one is a recording of the offline performances, By comparing and appreciating the three works, online platforms and performances were compared and analyzed. The main results of the study are summarized as follows. First, interviewees on the sound quality issue, one of the problems with online performances, responded that Arirang Five has a good sound and sound quality, so the performance has a better sense of realism than other performances. Second, as a result of comparing the performances, the interviewees said that they felt less immersed and bored. Lastly, the interviewees thought that online performances would help the development of the performance industry by providing artists with various opportunities and making it easier for the audience to access the performance. Therefore, the research limitations will be supplemented. Stage direction will be solved through convergence with technologies such as AR and VR, and sound can be improved using the latest sound equipment. Using technologies appropriately, online performance culture in the post-Covid-19 can be developed and popularized. This paper is aimed to help in the field of online art performances that are changing in preparation for post-Covid-19. The definition of “online performance culture” following the spread of the Covid-19 and cases of classical music, Korean traditional performance, and musical performance were investigated and studied, and the results of interviews of performers currently active in music field and audiences who enjoy performances were summarized. The cases are Hungarian song, Arirang Five, musical Empress Myeongseong. The first two performances are designed for online performances, but the last one is a recording of the offline performances, By comparing and appreciating the three works, online platforms and performances were compared and analyzed. The main results of the study are summarized as follows. First, interviewees on the sound quality issue, one of the problems with online performances, responded that Arirang Five has a good sound and sound quality, so the performance has a better sense of realism than other performances. Second, as a result of comparing the performances, the interviewees said that they felt less immersed and bored. Lastly, the interviewees thought that online performances would help the development of the performance industry by providing artists with various opportunities and making it easier for the audience to access the performance. Therefore, the research limitations will be supplemented. Stage direction will be solved through convergence with technologies such as AR and VR, and sound can be improved using the latest sound equipment. Using technologies appropriately, online performance culture in the post-Covid-19 can be developed and popularized.\n",
      "코로나19와 함께 미디어화 된 일상이 더욱 익숙해진 관객들에게 집에서 즐기는 공연은 일시적인 대체를 넘어서 하나의 문화이자 양식으로 자리 잡아 가고 있다. 특히 비대면 공연의 기술결합과의 조우는 오늘날 비대면 공연의 변화와 혁신을 창조했고, 대면 공연과 같은 현장감ㆍ몰입도ㆍ상호작용성에 대한 논의를 넘어 게임ㆍ광고 등 수많은 콘텐츠와 다양한 파생상품 기획으로 수익성이 높아지고 있다. 이에 따라 비대면 공연은 대면공연과 병행되거나 결합한 형태의 하이플렉스(HyFlex)공연으로 나타나고 있다. 본고는 이러한 새로운 형태의 공연이 갖는 가치와 의미를 토대로 K-pop의 지속적 확산과 신한류 문화산업으로서 K-pop 가능성을 제시하고자 한다.\n",
      "비대면 공연은 비대면 영상기술제작유형과 비대면 실감형기술제작 공연으로 구분 하고 오감을 자극하는 실감형 기술은 AR 무대 구현, 폭넓은 관람 시야 제공, 3D 모델링 등으로 몰입 수준이 향상되어 수동적 관찰자에서 능동적 참여자로 관객과의 상호작용을 넓혔다. 그리고 이러한 공연들은 앞으로 디지털네이티브 세대인 MZ세대를 기반한 확장성을 충분히 고려하면서 창의적이고 발전적인 방향으로 관객에게 제공되어야 한다. 본고가 지금 막 시작하는 비대면 공연의 일상화에 있어 논의를 이끌어 냈다는 점에서 의의가 있다고 판단한다. 그러나 실감형 기술을 활용한 공연은 계속해서 발전 및 개발 중으로 아직 초기단계이기에 사례연구를 넘어 이용자를 대상으로 하는 실증연구도 필요할 것이다.\n",
      "\n",
      "For audiences who have become more familiar with their mediaized daily lives with COVID－19, performances enjoyed at home are becoming a culture and style beyond temporary replacement. In particular, the encounter with the technology combination of non－face－to－face performances has created changes and innovations in non－face－to－face performance contents today, and profitability is increasing with numerous contents such as games and advertisements and various derivatives planning. Accordingly, the purpose of this paper is to demonstrate that non－face－to－face performances are parallel to face－to－face performances or to define the meaning as a new phenomenon of spreading value of hybrid HyFlex performances.\n",
      "Non－face－to－face performances are divided into non－face－to －face video technology production types and non－face－to－face virtual reality technology production performances, and virtual reality technologies that stimulate five senses have improved their immersion level by implementing AR stages, providing wide viewing views, and 3D modeling. In addition, these performances should be provided to the audience in a creative and developmental direction while fully considering scalability based on the MZ generation, the digital native generation.\n",
      "I think that this paper has some significance in that it has led to discussions in the routinization of non－face－to－face performances that are just starting. However, performances using virtual reality technology are still in the early stages of development and growth, so empirical studies which is considering targeting users will be needed beyond case studies. For audiences who have become more familiar with their mediaized daily lives with COVID－19, performances enjoyed at home are becoming a culture and style beyond temporary replacement. In particular, the encounter with the technology combination of non－face－to－face performances has created changes and innovations in non－face－to－face performance contents today, and profitability is increasing with numerous contents such as games and advertisements and various derivatives planning. Accordingly, the purpose of this paper is to demonstrate that non－face－to－face performances are parallel to face－to－face performances or to define the meaning as a new phenomenon of spreading value of hybrid HyFlex performances.\n",
      "Non－face－to－face performances are divided into non－face－to －face video technology production types and non－face－to－face virtual reality technology production performances, and virtual reality technologies that stimulate five senses have improved their immersion level by implementing AR stages, providing wide viewing views, and 3D modeling. In addition, these performances should be provided to the audience in a creative and developmental direction while fully considering scalability based on the MZ generation, the digital native generation.\n",
      "I think that this paper has some significance in that it has led to discussions in the routinization of non－face－to－face performances that are just starting. However, performances using virtual reality technology are still in the early stages of development and growth, so empirical studies which is considering targeting users will be needed beyond case studies.\n"
     ]
    },
    {
     "name": "stdout",
     "output_type": "stream",
     "text": [
      "메타버스 공간에서 최초로 가상 공연을 펼친 것은 대중음악 분야로 미국 래퍼 트레비스 스캇이다. 2020년 4월 전 세계 접속자 2,700만여 명을 모아 200억 원의 수익을 낸 그의 행보 이후, 아리아나 그란데가 가상 세계에서 실감형 콘서트를 진행하거나 방탄소년단이 게임 속 공연장에서 최초로 공개하는 등 빠르게 발전하는 디지털 기술 속도만큼 메타버스를 향한 다양한 시선들 역시 매우 흥분되고 있는 현실이다. 공연예술 분야도 메타버스에 대해 어떻게 수용하고 대응해야할지 엔터테인먼트 후속 주자로서 고심하고 있으나, 아직은 소수의 국·공립 단체를 중심으로 홍보나 마케팅 중심으로 접근하거나 공연 예술과 별개의 영역으로 간주 되곤 한다. 반면 메타버스에 대해 많은 정의가 쏟아지고 있다. 하지만 실제로 어떻게 적용할지 모르겠다며 답답해하는 공연예술 전문가들의 목소리도 높아지고 있다. 아무리 많은 정보가 있다 할지라도 사용자에게 필요한 정보가 가장 유용한 정보일 것이다. 메타버스에 대한 예술로 확장 가능성을 논하기 위해서 기존의 메타버스 사례 중 공연예술 산업과 연계될 수 있는 사례를 선택해서 필요에 따라 사용할 수 있도록 도발적인 연구도 필요하다. 본 연구는 선행 연구를 바탕으로 메타버스 공연 제작 시스템을 유추하고 적용 가능한 메타버스 유형을 제시하고자 한다.\n",
      "\n",
      "The first virtual performance in a metaversial space was a pop performance by the American rapper Travis Scott. The speed with which metaversial technology is being developed is matched only by the giddy excitement that it elicits. More belatedly, the performing arts also hopes to imitate the success of popular entertainment by defining a path forward in the metaverse. However, these attempts to date have been limited to a one-off publicity or marketing-oriented approach taken by a small number of national and public organizations take, or dismissed as incompatible with the performing arts. To discuss the expansion opportunities for the performing arts, a provocative but practical prior study on cases related to the performing arts among existing metaverse cases is necessary. This is why we want to present the types of metaverse in this paper and demonstrate the connections between relevant examples of performance arts in metaversial spaces. The first virtual performance in a metaversial space was a pop performance by the American rapper Travis Scott. The speed with which metaversial technology is being developed is matched only by the giddy excitement that it elicits. More belatedly, the performing arts also hopes to imitate the success of popular entertainment by defining a path forward in the metaverse. However, these attempts to date have been limited to a one-off publicity or marketing-oriented approach taken by a small number of national and public organizations take, or dismissed as incompatible with the performing arts. To discuss the expansion opportunities for the performing arts, a provocative but practical prior study on cases related to the performing arts among existing metaverse cases is necessary. This is why we want to present the types of metaverse in this paper and demonstrate the connections between relevant examples of performance arts in metaversial spaces.\n"
     ]
    },
    {
     "ename": "KeyboardInterrupt",
     "evalue": "",
     "output_type": "error",
     "traceback": [
      "\u001b[0;31m---------------------------------------------------------------------------\u001b[0m",
      "\u001b[0;31mKeyboardInterrupt\u001b[0m                         Traceback (most recent call last)",
      "\u001b[0;32m/var/folders/90/6xm8gvdx3rqcjl3c148y_bjw0000gn/T/ipykernel_76910/2663539266.py\u001b[0m in \u001b[0;36m<module>\u001b[0;34m\u001b[0m\n\u001b[1;32m     12\u001b[0m \u001b[0mcontent_list\u001b[0m \u001b[0;34m=\u001b[0m \u001b[0;34m[\u001b[0m\u001b[0;34m]\u001b[0m\u001b[0;34m\u001b[0m\u001b[0;34m\u001b[0m\u001b[0m\n\u001b[1;32m     13\u001b[0m \u001b[0;32mfor\u001b[0m \u001b[0mlink\u001b[0m \u001b[0;32min\u001b[0m \u001b[0mlink_list\u001b[0m\u001b[0;34m:\u001b[0m\u001b[0;34m\u001b[0m\u001b[0;34m\u001b[0m\u001b[0m\n\u001b[0;32m---> 14\u001b[0;31m     \u001b[0mbrowser\u001b[0m\u001b[0;34m.\u001b[0m\u001b[0mget\u001b[0m\u001b[0;34m(\u001b[0m\u001b[0mlink\u001b[0m\u001b[0;34m)\u001b[0m\u001b[0;34m\u001b[0m\u001b[0;34m\u001b[0m\u001b[0m\n\u001b[0m\u001b[1;32m     15\u001b[0m     \u001b[0mtime\u001b[0m\u001b[0;34m.\u001b[0m\u001b[0msleep\u001b[0m\u001b[0;34m(\u001b[0m\u001b[0;36m2\u001b[0m\u001b[0;34m)\u001b[0m\u001b[0;34m\u001b[0m\u001b[0;34m\u001b[0m\u001b[0m\n\u001b[1;32m     16\u001b[0m \u001b[0;34m\u001b[0m\u001b[0m\n",
      "\u001b[0;32m~/opt/anaconda3/lib/python3.9/site-packages/selenium/webdriver/remote/webdriver.py\u001b[0m in \u001b[0;36mget\u001b[0;34m(self, url)\u001b[0m\n\u001b[1;32m    439\u001b[0m         \u001b[0mLoads\u001b[0m \u001b[0ma\u001b[0m \u001b[0mweb\u001b[0m \u001b[0mpage\u001b[0m \u001b[0;32min\u001b[0m \u001b[0mthe\u001b[0m \u001b[0mcurrent\u001b[0m \u001b[0mbrowser\u001b[0m \u001b[0msession\u001b[0m\u001b[0;34m.\u001b[0m\u001b[0;34m\u001b[0m\u001b[0;34m\u001b[0m\u001b[0m\n\u001b[1;32m    440\u001b[0m         \"\"\"\n\u001b[0;32m--> 441\u001b[0;31m         \u001b[0mself\u001b[0m\u001b[0;34m.\u001b[0m\u001b[0mexecute\u001b[0m\u001b[0;34m(\u001b[0m\u001b[0mCommand\u001b[0m\u001b[0;34m.\u001b[0m\u001b[0mGET\u001b[0m\u001b[0;34m,\u001b[0m \u001b[0;34m{\u001b[0m\u001b[0;34m'url'\u001b[0m\u001b[0;34m:\u001b[0m \u001b[0murl\u001b[0m\u001b[0;34m}\u001b[0m\u001b[0;34m)\u001b[0m\u001b[0;34m\u001b[0m\u001b[0;34m\u001b[0m\u001b[0m\n\u001b[0m\u001b[1;32m    442\u001b[0m \u001b[0;34m\u001b[0m\u001b[0m\n\u001b[1;32m    443\u001b[0m     \u001b[0;34m@\u001b[0m\u001b[0mproperty\u001b[0m\u001b[0;34m\u001b[0m\u001b[0;34m\u001b[0m\u001b[0m\n",
      "\u001b[0;32m~/opt/anaconda3/lib/python3.9/site-packages/selenium/webdriver/remote/webdriver.py\u001b[0m in \u001b[0;36mexecute\u001b[0;34m(self, driver_command, params)\u001b[0m\n\u001b[1;32m    425\u001b[0m \u001b[0;34m\u001b[0m\u001b[0m\n\u001b[1;32m    426\u001b[0m         \u001b[0mparams\u001b[0m \u001b[0;34m=\u001b[0m \u001b[0mself\u001b[0m\u001b[0;34m.\u001b[0m\u001b[0m_wrap_value\u001b[0m\u001b[0;34m(\u001b[0m\u001b[0mparams\u001b[0m\u001b[0;34m)\u001b[0m\u001b[0;34m\u001b[0m\u001b[0;34m\u001b[0m\u001b[0m\n\u001b[0;32m--> 427\u001b[0;31m         \u001b[0mresponse\u001b[0m \u001b[0;34m=\u001b[0m \u001b[0mself\u001b[0m\u001b[0;34m.\u001b[0m\u001b[0mcommand_executor\u001b[0m\u001b[0;34m.\u001b[0m\u001b[0mexecute\u001b[0m\u001b[0;34m(\u001b[0m\u001b[0mdriver_command\u001b[0m\u001b[0;34m,\u001b[0m \u001b[0mparams\u001b[0m\u001b[0;34m)\u001b[0m\u001b[0;34m\u001b[0m\u001b[0;34m\u001b[0m\u001b[0m\n\u001b[0m\u001b[1;32m    428\u001b[0m         \u001b[0;32mif\u001b[0m \u001b[0mresponse\u001b[0m\u001b[0;34m:\u001b[0m\u001b[0;34m\u001b[0m\u001b[0;34m\u001b[0m\u001b[0m\n\u001b[1;32m    429\u001b[0m             \u001b[0mself\u001b[0m\u001b[0;34m.\u001b[0m\u001b[0merror_handler\u001b[0m\u001b[0;34m.\u001b[0m\u001b[0mcheck_response\u001b[0m\u001b[0;34m(\u001b[0m\u001b[0mresponse\u001b[0m\u001b[0;34m)\u001b[0m\u001b[0;34m\u001b[0m\u001b[0;34m\u001b[0m\u001b[0m\n",
      "\u001b[0;32m~/opt/anaconda3/lib/python3.9/site-packages/selenium/webdriver/remote/remote_connection.py\u001b[0m in \u001b[0;36mexecute\u001b[0;34m(self, command, params)\u001b[0m\n\u001b[1;32m    342\u001b[0m         \u001b[0mdata\u001b[0m \u001b[0;34m=\u001b[0m \u001b[0mutils\u001b[0m\u001b[0;34m.\u001b[0m\u001b[0mdump_json\u001b[0m\u001b[0;34m(\u001b[0m\u001b[0mparams\u001b[0m\u001b[0;34m)\u001b[0m\u001b[0;34m\u001b[0m\u001b[0;34m\u001b[0m\u001b[0m\n\u001b[1;32m    343\u001b[0m         \u001b[0murl\u001b[0m \u001b[0;34m=\u001b[0m \u001b[0;34mf\"{self._url}{path}\"\u001b[0m\u001b[0;34m\u001b[0m\u001b[0;34m\u001b[0m\u001b[0m\n\u001b[0;32m--> 344\u001b[0;31m         \u001b[0;32mreturn\u001b[0m \u001b[0mself\u001b[0m\u001b[0;34m.\u001b[0m\u001b[0m_request\u001b[0m\u001b[0;34m(\u001b[0m\u001b[0mcommand_info\u001b[0m\u001b[0;34m[\u001b[0m\u001b[0;36m0\u001b[0m\u001b[0;34m]\u001b[0m\u001b[0;34m,\u001b[0m \u001b[0murl\u001b[0m\u001b[0;34m,\u001b[0m \u001b[0mbody\u001b[0m\u001b[0;34m=\u001b[0m\u001b[0mdata\u001b[0m\u001b[0;34m)\u001b[0m\u001b[0;34m\u001b[0m\u001b[0;34m\u001b[0m\u001b[0m\n\u001b[0m\u001b[1;32m    345\u001b[0m \u001b[0;34m\u001b[0m\u001b[0m\n\u001b[1;32m    346\u001b[0m     \u001b[0;32mdef\u001b[0m \u001b[0m_request\u001b[0m\u001b[0;34m(\u001b[0m\u001b[0mself\u001b[0m\u001b[0;34m,\u001b[0m \u001b[0mmethod\u001b[0m\u001b[0;34m,\u001b[0m \u001b[0murl\u001b[0m\u001b[0;34m,\u001b[0m \u001b[0mbody\u001b[0m\u001b[0;34m=\u001b[0m\u001b[0;32mNone\u001b[0m\u001b[0;34m)\u001b[0m\u001b[0;34m:\u001b[0m\u001b[0;34m\u001b[0m\u001b[0;34m\u001b[0m\u001b[0m\n",
      "\u001b[0;32m~/opt/anaconda3/lib/python3.9/site-packages/selenium/webdriver/remote/remote_connection.py\u001b[0m in \u001b[0;36m_request\u001b[0;34m(self, method, url, body)\u001b[0m\n\u001b[1;32m    364\u001b[0m \u001b[0;34m\u001b[0m\u001b[0m\n\u001b[1;32m    365\u001b[0m         \u001b[0;32mif\u001b[0m \u001b[0mself\u001b[0m\u001b[0;34m.\u001b[0m\u001b[0mkeep_alive\u001b[0m\u001b[0;34m:\u001b[0m\u001b[0;34m\u001b[0m\u001b[0;34m\u001b[0m\u001b[0m\n\u001b[0;32m--> 366\u001b[0;31m             \u001b[0mresponse\u001b[0m \u001b[0;34m=\u001b[0m \u001b[0mself\u001b[0m\u001b[0;34m.\u001b[0m\u001b[0m_conn\u001b[0m\u001b[0;34m.\u001b[0m\u001b[0mrequest\u001b[0m\u001b[0;34m(\u001b[0m\u001b[0mmethod\u001b[0m\u001b[0;34m,\u001b[0m \u001b[0murl\u001b[0m\u001b[0;34m,\u001b[0m \u001b[0mbody\u001b[0m\u001b[0;34m=\u001b[0m\u001b[0mbody\u001b[0m\u001b[0;34m,\u001b[0m \u001b[0mheaders\u001b[0m\u001b[0;34m=\u001b[0m\u001b[0mheaders\u001b[0m\u001b[0;34m)\u001b[0m\u001b[0;34m\u001b[0m\u001b[0;34m\u001b[0m\u001b[0m\n\u001b[0m\u001b[1;32m    367\u001b[0m             \u001b[0mstatuscode\u001b[0m \u001b[0;34m=\u001b[0m \u001b[0mresponse\u001b[0m\u001b[0;34m.\u001b[0m\u001b[0mstatus\u001b[0m\u001b[0;34m\u001b[0m\u001b[0;34m\u001b[0m\u001b[0m\n\u001b[1;32m    368\u001b[0m         \u001b[0;32melse\u001b[0m\u001b[0;34m:\u001b[0m\u001b[0;34m\u001b[0m\u001b[0;34m\u001b[0m\u001b[0m\n",
      "\u001b[0;32m~/opt/anaconda3/lib/python3.9/site-packages/urllib3/request.py\u001b[0m in \u001b[0;36mrequest\u001b[0;34m(self, method, url, fields, headers, **urlopen_kw)\u001b[0m\n\u001b[1;32m     76\u001b[0m             )\n\u001b[1;32m     77\u001b[0m         \u001b[0;32melse\u001b[0m\u001b[0;34m:\u001b[0m\u001b[0;34m\u001b[0m\u001b[0;34m\u001b[0m\u001b[0m\n\u001b[0;32m---> 78\u001b[0;31m             return self.request_encode_body(\n\u001b[0m\u001b[1;32m     79\u001b[0m                 \u001b[0mmethod\u001b[0m\u001b[0;34m,\u001b[0m \u001b[0murl\u001b[0m\u001b[0;34m,\u001b[0m \u001b[0mfields\u001b[0m\u001b[0;34m=\u001b[0m\u001b[0mfields\u001b[0m\u001b[0;34m,\u001b[0m \u001b[0mheaders\u001b[0m\u001b[0;34m=\u001b[0m\u001b[0mheaders\u001b[0m\u001b[0;34m,\u001b[0m \u001b[0;34m**\u001b[0m\u001b[0murlopen_kw\u001b[0m\u001b[0;34m\u001b[0m\u001b[0;34m\u001b[0m\u001b[0m\n\u001b[1;32m     80\u001b[0m             )\n",
      "\u001b[0;32m~/opt/anaconda3/lib/python3.9/site-packages/urllib3/request.py\u001b[0m in \u001b[0;36mrequest_encode_body\u001b[0;34m(self, method, url, fields, headers, encode_multipart, multipart_boundary, **urlopen_kw)\u001b[0m\n\u001b[1;32m    168\u001b[0m         \u001b[0mextra_kw\u001b[0m\u001b[0;34m.\u001b[0m\u001b[0mupdate\u001b[0m\u001b[0;34m(\u001b[0m\u001b[0murlopen_kw\u001b[0m\u001b[0;34m)\u001b[0m\u001b[0;34m\u001b[0m\u001b[0;34m\u001b[0m\u001b[0m\n\u001b[1;32m    169\u001b[0m \u001b[0;34m\u001b[0m\u001b[0m\n\u001b[0;32m--> 170\u001b[0;31m         \u001b[0;32mreturn\u001b[0m \u001b[0mself\u001b[0m\u001b[0;34m.\u001b[0m\u001b[0murlopen\u001b[0m\u001b[0;34m(\u001b[0m\u001b[0mmethod\u001b[0m\u001b[0;34m,\u001b[0m \u001b[0murl\u001b[0m\u001b[0;34m,\u001b[0m \u001b[0;34m**\u001b[0m\u001b[0mextra_kw\u001b[0m\u001b[0;34m)\u001b[0m\u001b[0;34m\u001b[0m\u001b[0;34m\u001b[0m\u001b[0m\n\u001b[0m",
      "\u001b[0;32m~/opt/anaconda3/lib/python3.9/site-packages/urllib3/poolmanager.py\u001b[0m in \u001b[0;36murlopen\u001b[0;34m(self, method, url, redirect, **kw)\u001b[0m\n\u001b[1;32m    374\u001b[0m             \u001b[0mresponse\u001b[0m \u001b[0;34m=\u001b[0m \u001b[0mconn\u001b[0m\u001b[0;34m.\u001b[0m\u001b[0murlopen\u001b[0m\u001b[0;34m(\u001b[0m\u001b[0mmethod\u001b[0m\u001b[0;34m,\u001b[0m \u001b[0murl\u001b[0m\u001b[0;34m,\u001b[0m \u001b[0;34m**\u001b[0m\u001b[0mkw\u001b[0m\u001b[0;34m)\u001b[0m\u001b[0;34m\u001b[0m\u001b[0;34m\u001b[0m\u001b[0m\n\u001b[1;32m    375\u001b[0m         \u001b[0;32melse\u001b[0m\u001b[0;34m:\u001b[0m\u001b[0;34m\u001b[0m\u001b[0;34m\u001b[0m\u001b[0m\n\u001b[0;32m--> 376\u001b[0;31m             \u001b[0mresponse\u001b[0m \u001b[0;34m=\u001b[0m \u001b[0mconn\u001b[0m\u001b[0;34m.\u001b[0m\u001b[0murlopen\u001b[0m\u001b[0;34m(\u001b[0m\u001b[0mmethod\u001b[0m\u001b[0;34m,\u001b[0m \u001b[0mu\u001b[0m\u001b[0;34m.\u001b[0m\u001b[0mrequest_uri\u001b[0m\u001b[0;34m,\u001b[0m \u001b[0;34m**\u001b[0m\u001b[0mkw\u001b[0m\u001b[0;34m)\u001b[0m\u001b[0;34m\u001b[0m\u001b[0;34m\u001b[0m\u001b[0m\n\u001b[0m\u001b[1;32m    377\u001b[0m \u001b[0;34m\u001b[0m\u001b[0m\n\u001b[1;32m    378\u001b[0m         \u001b[0mredirect_location\u001b[0m \u001b[0;34m=\u001b[0m \u001b[0mredirect\u001b[0m \u001b[0;32mand\u001b[0m \u001b[0mresponse\u001b[0m\u001b[0;34m.\u001b[0m\u001b[0mget_redirect_location\u001b[0m\u001b[0;34m(\u001b[0m\u001b[0;34m)\u001b[0m\u001b[0;34m\u001b[0m\u001b[0;34m\u001b[0m\u001b[0m\n",
      "\u001b[0;32m~/opt/anaconda3/lib/python3.9/site-packages/urllib3/connectionpool.py\u001b[0m in \u001b[0;36murlopen\u001b[0;34m(self, method, url, body, headers, retries, redirect, assert_same_host, timeout, pool_timeout, release_conn, chunked, body_pos, **response_kw)\u001b[0m\n\u001b[1;32m    701\u001b[0m \u001b[0;34m\u001b[0m\u001b[0m\n\u001b[1;32m    702\u001b[0m             \u001b[0;31m# Make the request on the httplib connection object.\u001b[0m\u001b[0;34m\u001b[0m\u001b[0;34m\u001b[0m\u001b[0m\n\u001b[0;32m--> 703\u001b[0;31m             httplib_response = self._make_request(\n\u001b[0m\u001b[1;32m    704\u001b[0m                 \u001b[0mconn\u001b[0m\u001b[0;34m,\u001b[0m\u001b[0;34m\u001b[0m\u001b[0;34m\u001b[0m\u001b[0m\n\u001b[1;32m    705\u001b[0m                 \u001b[0mmethod\u001b[0m\u001b[0;34m,\u001b[0m\u001b[0;34m\u001b[0m\u001b[0;34m\u001b[0m\u001b[0m\n",
      "\u001b[0;32m~/opt/anaconda3/lib/python3.9/site-packages/urllib3/connectionpool.py\u001b[0m in \u001b[0;36m_make_request\u001b[0;34m(self, conn, method, url, timeout, chunked, **httplib_request_kw)\u001b[0m\n\u001b[1;32m    447\u001b[0m                     \u001b[0;31m# Python 3 (including for exceptions like SystemExit).\u001b[0m\u001b[0;34m\u001b[0m\u001b[0;34m\u001b[0m\u001b[0m\n\u001b[1;32m    448\u001b[0m                     \u001b[0;31m# Otherwise it looks like a bug in the code.\u001b[0m\u001b[0;34m\u001b[0m\u001b[0;34m\u001b[0m\u001b[0m\n\u001b[0;32m--> 449\u001b[0;31m                     \u001b[0msix\u001b[0m\u001b[0;34m.\u001b[0m\u001b[0mraise_from\u001b[0m\u001b[0;34m(\u001b[0m\u001b[0me\u001b[0m\u001b[0;34m,\u001b[0m \u001b[0;32mNone\u001b[0m\u001b[0;34m)\u001b[0m\u001b[0;34m\u001b[0m\u001b[0;34m\u001b[0m\u001b[0m\n\u001b[0m\u001b[1;32m    450\u001b[0m         \u001b[0;32mexcept\u001b[0m \u001b[0;34m(\u001b[0m\u001b[0mSocketTimeout\u001b[0m\u001b[0;34m,\u001b[0m \u001b[0mBaseSSLError\u001b[0m\u001b[0;34m,\u001b[0m \u001b[0mSocketError\u001b[0m\u001b[0;34m)\u001b[0m \u001b[0;32mas\u001b[0m \u001b[0me\u001b[0m\u001b[0;34m:\u001b[0m\u001b[0;34m\u001b[0m\u001b[0;34m\u001b[0m\u001b[0m\n\u001b[1;32m    451\u001b[0m             \u001b[0mself\u001b[0m\u001b[0;34m.\u001b[0m\u001b[0m_raise_timeout\u001b[0m\u001b[0;34m(\u001b[0m\u001b[0merr\u001b[0m\u001b[0;34m=\u001b[0m\u001b[0me\u001b[0m\u001b[0;34m,\u001b[0m \u001b[0murl\u001b[0m\u001b[0;34m=\u001b[0m\u001b[0murl\u001b[0m\u001b[0;34m,\u001b[0m \u001b[0mtimeout_value\u001b[0m\u001b[0;34m=\u001b[0m\u001b[0mread_timeout\u001b[0m\u001b[0;34m)\u001b[0m\u001b[0;34m\u001b[0m\u001b[0;34m\u001b[0m\u001b[0m\n",
      "\u001b[0;32m~/opt/anaconda3/lib/python3.9/site-packages/urllib3/packages/six.py\u001b[0m in \u001b[0;36mraise_from\u001b[0;34m(value, from_value)\u001b[0m\n",
      "\u001b[0;32m~/opt/anaconda3/lib/python3.9/site-packages/urllib3/connectionpool.py\u001b[0m in \u001b[0;36m_make_request\u001b[0;34m(self, conn, method, url, timeout, chunked, **httplib_request_kw)\u001b[0m\n\u001b[1;32m    442\u001b[0m                 \u001b[0;31m# Python 3\u001b[0m\u001b[0;34m\u001b[0m\u001b[0;34m\u001b[0m\u001b[0m\n\u001b[1;32m    443\u001b[0m                 \u001b[0;32mtry\u001b[0m\u001b[0;34m:\u001b[0m\u001b[0;34m\u001b[0m\u001b[0;34m\u001b[0m\u001b[0m\n\u001b[0;32m--> 444\u001b[0;31m                     \u001b[0mhttplib_response\u001b[0m \u001b[0;34m=\u001b[0m \u001b[0mconn\u001b[0m\u001b[0;34m.\u001b[0m\u001b[0mgetresponse\u001b[0m\u001b[0;34m(\u001b[0m\u001b[0;34m)\u001b[0m\u001b[0;34m\u001b[0m\u001b[0;34m\u001b[0m\u001b[0m\n\u001b[0m\u001b[1;32m    445\u001b[0m                 \u001b[0;32mexcept\u001b[0m \u001b[0mBaseException\u001b[0m \u001b[0;32mas\u001b[0m \u001b[0me\u001b[0m\u001b[0;34m:\u001b[0m\u001b[0;34m\u001b[0m\u001b[0;34m\u001b[0m\u001b[0m\n\u001b[1;32m    446\u001b[0m                     \u001b[0;31m# Remove the TypeError from the exception chain in\u001b[0m\u001b[0;34m\u001b[0m\u001b[0;34m\u001b[0m\u001b[0m\n",
      "\u001b[0;32m~/opt/anaconda3/lib/python3.9/http/client.py\u001b[0m in \u001b[0;36mgetresponse\u001b[0;34m(self)\u001b[0m\n\u001b[1;32m   1375\u001b[0m         \u001b[0;32mtry\u001b[0m\u001b[0;34m:\u001b[0m\u001b[0;34m\u001b[0m\u001b[0;34m\u001b[0m\u001b[0m\n\u001b[1;32m   1376\u001b[0m             \u001b[0;32mtry\u001b[0m\u001b[0;34m:\u001b[0m\u001b[0;34m\u001b[0m\u001b[0;34m\u001b[0m\u001b[0m\n\u001b[0;32m-> 1377\u001b[0;31m                 \u001b[0mresponse\u001b[0m\u001b[0;34m.\u001b[0m\u001b[0mbegin\u001b[0m\u001b[0;34m(\u001b[0m\u001b[0;34m)\u001b[0m\u001b[0;34m\u001b[0m\u001b[0;34m\u001b[0m\u001b[0m\n\u001b[0m\u001b[1;32m   1378\u001b[0m             \u001b[0;32mexcept\u001b[0m \u001b[0mConnectionError\u001b[0m\u001b[0;34m:\u001b[0m\u001b[0;34m\u001b[0m\u001b[0;34m\u001b[0m\u001b[0m\n\u001b[1;32m   1379\u001b[0m                 \u001b[0mself\u001b[0m\u001b[0;34m.\u001b[0m\u001b[0mclose\u001b[0m\u001b[0;34m(\u001b[0m\u001b[0;34m)\u001b[0m\u001b[0;34m\u001b[0m\u001b[0;34m\u001b[0m\u001b[0m\n",
      "\u001b[0;32m~/opt/anaconda3/lib/python3.9/http/client.py\u001b[0m in \u001b[0;36mbegin\u001b[0;34m(self)\u001b[0m\n\u001b[1;32m    318\u001b[0m         \u001b[0;31m# read until we get a non-100 response\u001b[0m\u001b[0;34m\u001b[0m\u001b[0;34m\u001b[0m\u001b[0m\n\u001b[1;32m    319\u001b[0m         \u001b[0;32mwhile\u001b[0m \u001b[0;32mTrue\u001b[0m\u001b[0;34m:\u001b[0m\u001b[0;34m\u001b[0m\u001b[0;34m\u001b[0m\u001b[0m\n\u001b[0;32m--> 320\u001b[0;31m             \u001b[0mversion\u001b[0m\u001b[0;34m,\u001b[0m \u001b[0mstatus\u001b[0m\u001b[0;34m,\u001b[0m \u001b[0mreason\u001b[0m \u001b[0;34m=\u001b[0m \u001b[0mself\u001b[0m\u001b[0;34m.\u001b[0m\u001b[0m_read_status\u001b[0m\u001b[0;34m(\u001b[0m\u001b[0;34m)\u001b[0m\u001b[0;34m\u001b[0m\u001b[0;34m\u001b[0m\u001b[0m\n\u001b[0m\u001b[1;32m    321\u001b[0m             \u001b[0;32mif\u001b[0m \u001b[0mstatus\u001b[0m \u001b[0;34m!=\u001b[0m \u001b[0mCONTINUE\u001b[0m\u001b[0;34m:\u001b[0m\u001b[0;34m\u001b[0m\u001b[0;34m\u001b[0m\u001b[0m\n\u001b[1;32m    322\u001b[0m                 \u001b[0;32mbreak\u001b[0m\u001b[0;34m\u001b[0m\u001b[0;34m\u001b[0m\u001b[0m\n",
      "\u001b[0;32m~/opt/anaconda3/lib/python3.9/http/client.py\u001b[0m in \u001b[0;36m_read_status\u001b[0;34m(self)\u001b[0m\n\u001b[1;32m    279\u001b[0m \u001b[0;34m\u001b[0m\u001b[0m\n\u001b[1;32m    280\u001b[0m     \u001b[0;32mdef\u001b[0m \u001b[0m_read_status\u001b[0m\u001b[0;34m(\u001b[0m\u001b[0mself\u001b[0m\u001b[0;34m)\u001b[0m\u001b[0;34m:\u001b[0m\u001b[0;34m\u001b[0m\u001b[0;34m\u001b[0m\u001b[0m\n\u001b[0;32m--> 281\u001b[0;31m         \u001b[0mline\u001b[0m \u001b[0;34m=\u001b[0m \u001b[0mstr\u001b[0m\u001b[0;34m(\u001b[0m\u001b[0mself\u001b[0m\u001b[0;34m.\u001b[0m\u001b[0mfp\u001b[0m\u001b[0;34m.\u001b[0m\u001b[0mreadline\u001b[0m\u001b[0;34m(\u001b[0m\u001b[0m_MAXLINE\u001b[0m \u001b[0;34m+\u001b[0m \u001b[0;36m1\u001b[0m\u001b[0;34m)\u001b[0m\u001b[0;34m,\u001b[0m \u001b[0;34m\"iso-8859-1\"\u001b[0m\u001b[0;34m)\u001b[0m\u001b[0;34m\u001b[0m\u001b[0;34m\u001b[0m\u001b[0m\n\u001b[0m\u001b[1;32m    282\u001b[0m         \u001b[0;32mif\u001b[0m \u001b[0mlen\u001b[0m\u001b[0;34m(\u001b[0m\u001b[0mline\u001b[0m\u001b[0;34m)\u001b[0m \u001b[0;34m>\u001b[0m \u001b[0m_MAXLINE\u001b[0m\u001b[0;34m:\u001b[0m\u001b[0;34m\u001b[0m\u001b[0;34m\u001b[0m\u001b[0m\n\u001b[1;32m    283\u001b[0m             \u001b[0;32mraise\u001b[0m \u001b[0mLineTooLong\u001b[0m\u001b[0;34m(\u001b[0m\u001b[0;34m\"status line\"\u001b[0m\u001b[0;34m)\u001b[0m\u001b[0;34m\u001b[0m\u001b[0;34m\u001b[0m\u001b[0m\n",
      "\u001b[0;32m~/opt/anaconda3/lib/python3.9/socket.py\u001b[0m in \u001b[0;36mreadinto\u001b[0;34m(self, b)\u001b[0m\n\u001b[1;32m    702\u001b[0m         \u001b[0;32mwhile\u001b[0m \u001b[0;32mTrue\u001b[0m\u001b[0;34m:\u001b[0m\u001b[0;34m\u001b[0m\u001b[0;34m\u001b[0m\u001b[0m\n\u001b[1;32m    703\u001b[0m             \u001b[0;32mtry\u001b[0m\u001b[0;34m:\u001b[0m\u001b[0;34m\u001b[0m\u001b[0;34m\u001b[0m\u001b[0m\n\u001b[0;32m--> 704\u001b[0;31m                 \u001b[0;32mreturn\u001b[0m \u001b[0mself\u001b[0m\u001b[0;34m.\u001b[0m\u001b[0m_sock\u001b[0m\u001b[0;34m.\u001b[0m\u001b[0mrecv_into\u001b[0m\u001b[0;34m(\u001b[0m\u001b[0mb\u001b[0m\u001b[0;34m)\u001b[0m\u001b[0;34m\u001b[0m\u001b[0;34m\u001b[0m\u001b[0m\n\u001b[0m\u001b[1;32m    705\u001b[0m             \u001b[0;32mexcept\u001b[0m \u001b[0mtimeout\u001b[0m\u001b[0;34m:\u001b[0m\u001b[0;34m\u001b[0m\u001b[0;34m\u001b[0m\u001b[0m\n\u001b[1;32m    706\u001b[0m                 \u001b[0mself\u001b[0m\u001b[0;34m.\u001b[0m\u001b[0m_timeout_occurred\u001b[0m \u001b[0;34m=\u001b[0m \u001b[0;32mTrue\u001b[0m\u001b[0;34m\u001b[0m\u001b[0;34m\u001b[0m\u001b[0m\n",
      "\u001b[0;31mKeyboardInterrupt\u001b[0m: "
     ]
    }
   ],
   "source": [
    "links = browser.find_elements(By.CLASS_NAME, 'thesis__link')\n",
    "\n",
    "\n",
    "link_list = []\n",
    "\n",
    "for element in links:\n",
    "    link = element.get_attribute('href')\n",
    "    link_list.append(link) # 세부 페이지로 이동\n",
    "    \n",
    "print(link_list)\n",
    "\n",
    "content_list = []\n",
    "for link in link_list:\n",
    "    browser.get(link)\n",
    "    time.sleep(2)\n",
    "    \n",
    "    try: \n",
    "        content = browser.find_element(By.CLASS_NAME, 'abstractTxt').text\n",
    "        print(content)\n",
    "        \n",
    "    except:\n",
    "        content = \"vacant\" # 등록 정보 없는 경우 noData로 class명이 다르다.\n",
    "        \n",
    "    content_list.append(content)\n",
    "    \n",
    "print(content_list)\n",
    "        \n",
    "\n"
   ]
  },
  {
   "cell_type": "code",
   "execution_count": null,
   "id": "c4a1375b",
   "metadata": {},
   "outputs": [],
   "source": []
  }
 ],
 "metadata": {
  "kernelspec": {
   "display_name": "Python 3 (ipykernel)",
   "language": "python",
   "name": "python3"
  },
  "language_info": {
   "codemirror_mode": {
    "name": "ipython",
    "version": 3
   },
   "file_extension": ".py",
   "mimetype": "text/x-python",
   "name": "python",
   "nbconvert_exporter": "python",
   "pygments_lexer": "ipython3",
   "version": "3.9.13"
  }
 },
 "nbformat": 4,
 "nbformat_minor": 5
}
