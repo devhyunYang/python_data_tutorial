{
 "cells": [
  {
   "cell_type": "markdown",
   "id": "b39baae0",
   "metadata": {},
   "source": [
    "# numpy\n",
    "파이썬에서 수학적 계산을 쉽게 할 수 있도록 도와주는 라이브러리입니다."
   ]
  },
  {
   "cell_type": "code",
   "execution_count": 1,
   "id": "0435391a",
   "metadata": {},
   "outputs": [],
   "source": [
    "import numpy as np"
   ]
  },
  {
   "cell_type": "code",
   "execution_count": 5,
   "id": "45ec7821",
   "metadata": {},
   "outputs": [
    {
     "data": {
      "text/plain": [
       "array(['A', 'B', 'C', 'D', 'E'], dtype='<U1')"
      ]
     },
     "execution_count": 5,
     "metadata": {},
     "output_type": "execute_result"
    }
   ],
   "source": [
    "list = [\"A\",\"B\",\"C\",\"D\",\"E\"]\n",
    "list2 = [1,2,3]\n",
    "array = np.array([\"A\",\"B\",\"C\",\"D\",\"E\"] )\n",
    "array"
   ]
  },
  {
   "cell_type": "code",
   "execution_count": 4,
   "id": "691dc091",
   "metadata": {},
   "outputs": [
    {
     "name": "stdout",
     "output_type": "stream",
     "text": [
      "(5,)\n",
      "1\n",
      "<U1\n"
     ]
    }
   ],
   "source": [
    "print(array.shape)\n",
    "print(array.ndim)\n",
    "print(array.dtype)\n",
    "\n",
    "# 데이터가 내가 원하는 형식이 맞는지 확인!"
   ]
  },
  {
   "cell_type": "code",
   "execution_count": 8,
   "id": "8cd83af4",
   "metadata": {},
   "outputs": [
    {
     "data": {
      "text/plain": [
       "array([['A', 'B', 'C'],\n",
       "       ['D', 'E', 'F']], dtype='<U1')"
      ]
     },
     "execution_count": 8,
     "metadata": {},
     "output_type": "execute_result"
    }
   ],
   "source": [
    "array2 = np.array([[\"A\", \"B\", \"C\"], [\"D\",\"E\",\"F\"]]) # 2차원이라 바깥에 [] 한 번 더\n",
    "array2"
   ]
  },
  {
   "cell_type": "code",
   "execution_count": 9,
   "id": "667750aa",
   "metadata": {},
   "outputs": [
    {
     "name": "stdout",
     "output_type": "stream",
     "text": [
      "(2, 3)\n",
      "2\n",
      "<U1\n"
     ]
    }
   ],
   "source": [
    "print(array2.shape)\n",
    "print(array2.ndim)\n",
    "print(array2.dtype) #문자형 데이터로 이루어짐"
   ]
  },
  {
   "cell_type": "code",
   "execution_count": 18,
   "id": "1d59dedd",
   "metadata": {},
   "outputs": [
    {
     "data": {
      "text/plain": [
       "array([[['A', 'B', 'C'],\n",
       "        ['D', 'E', 'F']],\n",
       "\n",
       "       [['A', 'B', 'C'],\n",
       "        ['D', 'E', 'F']]], dtype='<U1')"
      ]
     },
     "execution_count": 18,
     "metadata": {},
     "output_type": "execute_result"
    }
   ],
   "source": [
    "array3 = np.array(\n",
    "[\n",
    "    [[\"A\",\"B\",\"C\"], [\"D\",\"E\",\"F\"]],\n",
    "    [[\"A\",\"B\",\"C\"], [\"D\",\"E\",\"F\"]]\n",
    "])\n",
    "array3\n",
    "\n",
    "#대괄호 갯수가 늘어날 때마다 차원이 늘어난다."
   ]
  },
  {
   "cell_type": "code",
   "execution_count": 15,
   "id": "69d88894",
   "metadata": {},
   "outputs": [
    {
     "name": "stdout",
     "output_type": "stream",
     "text": [
      "(3, 3)\n",
      "2\n",
      "<U1\n"
     ]
    }
   ],
   "source": [
    "print(array3.shape)\n",
    "print(array3.ndim)\n",
    "print(array3.dtype) #문자형 데이터로 이루어짐"
   ]
  },
  {
   "cell_type": "code",
   "execution_count": 23,
   "id": "8d0337f8",
   "metadata": {},
   "outputs": [
    {
     "name": "stdout",
     "output_type": "stream",
     "text": [
      "<U1\n",
      "int64\n"
     ]
    }
   ],
   "source": [
    "array4 = np.array([\"1\",\"2\",\"3\",\"4\",\"5\"])\n",
    "print(array4.dtype)\n",
    "\n",
    "array4 = array4.astype(np.int64) #astype > 원하는 형태로 문자를 바꿔줌\n",
    "print(array4.dtype)"
   ]
  },
  {
   "cell_type": "code",
   "execution_count": 25,
   "id": "ea30d4f3",
   "metadata": {},
   "outputs": [
    {
     "data": {
      "text/plain": [
       "array([1, 2, 3, 4, 5, 6, 7, 8, 9])"
      ]
     },
     "execution_count": 25,
     "metadata": {},
     "output_type": "execute_result"
    }
   ],
   "source": [
    "arr = np.arange(1,10) # 1부터 10까지의 배열\n",
    "arr # array([1, 2, 3, 4, 5, 6, 7, 8, 9]) 각각 1개의 컬럼"
   ]
  },
  {
   "cell_type": "code",
   "execution_count": 27,
   "id": "d5e50616",
   "metadata": {},
   "outputs": [
    {
     "data": {
      "text/plain": [
       "array([1, 2, 3])"
      ]
     },
     "execution_count": 27,
     "metadata": {},
     "output_type": "execute_result"
    }
   ],
   "source": [
    "arr[0:3]"
   ]
  },
  {
   "cell_type": "code",
   "execution_count": 31,
   "id": "1aaf53c7",
   "metadata": {},
   "outputs": [
    {
     "name": "stdout",
     "output_type": "stream",
     "text": [
      "[False False False False False False  True  True  True]\n",
      "[7 8 9]\n"
     ]
    }
   ],
   "source": [
    "print(arr > 6) # 6보다 작으면 담아주기\n",
    "print(arr[arr > 6]) # 그것들 중 true면 담아주기"
   ]
  },
  {
   "cell_type": "code",
   "execution_count": null,
   "id": "8bc4be69",
   "metadata": {},
   "outputs": [],
   "source": [
    "# 배열 연산\n",
    "arr1 = "
   ]
  }
 ],
 "metadata": {
  "kernelspec": {
   "display_name": "Python 3 (ipykernel)",
   "language": "python",
   "name": "python3"
  },
  "language_info": {
   "codemirror_mode": {
    "name": "ipython",
    "version": 3
   },
   "file_extension": ".py",
   "mimetype": "text/x-python",
   "name": "python",
   "nbconvert_exporter": "python",
   "pygments_lexer": "ipython3",
   "version": "3.9.13"
  }
 },
 "nbformat": 4,
 "nbformat_minor": 5
}
